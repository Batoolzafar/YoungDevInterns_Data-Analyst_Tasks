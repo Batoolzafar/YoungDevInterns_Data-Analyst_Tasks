{
 "cells": [
  {
   "cell_type": "code",
   "execution_count": 2,
   "id": "907b42ce",
   "metadata": {},
   "outputs": [],
   "source": [
    "import pandas as pd\n",
    "import matplotlib.pyplot as plt\n",
    "import plotly.express as px\n",
    "import seaborn as sns\n",
    "import numpy as np\n",
    "import warnings;"
   ]
  },
  {
   "cell_type": "markdown",
   "id": "439f1f73",
   "metadata": {},
   "source": [
    "# Loading the Dataset"
   ]
  },
  {
   "cell_type": "code",
   "execution_count": 3,
   "id": "a58800d3",
   "metadata": {},
   "outputs": [],
   "source": [
    "data = sns.load_dataset(\"Titanic\")"
   ]
  },
  {
   "cell_type": "code",
   "execution_count": 4,
   "id": "43b48db8",
   "metadata": {},
   "outputs": [
    {
     "data": {
      "text/html": [
       "<div>\n",
       "<style scoped>\n",
       "    .dataframe tbody tr th:only-of-type {\n",
       "        vertical-align: middle;\n",
       "    }\n",
       "\n",
       "    .dataframe tbody tr th {\n",
       "        vertical-align: top;\n",
       "    }\n",
       "\n",
       "    .dataframe thead th {\n",
       "        text-align: right;\n",
       "    }\n",
       "</style>\n",
       "<table border=\"1\" class=\"dataframe\">\n",
       "  <thead>\n",
       "    <tr style=\"text-align: right;\">\n",
       "      <th></th>\n",
       "      <th>survived</th>\n",
       "      <th>pclass</th>\n",
       "      <th>sex</th>\n",
       "      <th>age</th>\n",
       "      <th>sibsp</th>\n",
       "      <th>parch</th>\n",
       "      <th>fare</th>\n",
       "      <th>embarked</th>\n",
       "      <th>class</th>\n",
       "      <th>who</th>\n",
       "      <th>adult_male</th>\n",
       "      <th>deck</th>\n",
       "      <th>embark_town</th>\n",
       "      <th>alive</th>\n",
       "      <th>alone</th>\n",
       "    </tr>\n",
       "  </thead>\n",
       "  <tbody>\n",
       "    <tr>\n",
       "      <th>0</th>\n",
       "      <td>0</td>\n",
       "      <td>3</td>\n",
       "      <td>male</td>\n",
       "      <td>22.0</td>\n",
       "      <td>1</td>\n",
       "      <td>0</td>\n",
       "      <td>7.2500</td>\n",
       "      <td>S</td>\n",
       "      <td>Third</td>\n",
       "      <td>man</td>\n",
       "      <td>True</td>\n",
       "      <td>NaN</td>\n",
       "      <td>Southampton</td>\n",
       "      <td>no</td>\n",
       "      <td>False</td>\n",
       "    </tr>\n",
       "    <tr>\n",
       "      <th>1</th>\n",
       "      <td>1</td>\n",
       "      <td>1</td>\n",
       "      <td>female</td>\n",
       "      <td>38.0</td>\n",
       "      <td>1</td>\n",
       "      <td>0</td>\n",
       "      <td>71.2833</td>\n",
       "      <td>C</td>\n",
       "      <td>First</td>\n",
       "      <td>woman</td>\n",
       "      <td>False</td>\n",
       "      <td>C</td>\n",
       "      <td>Cherbourg</td>\n",
       "      <td>yes</td>\n",
       "      <td>False</td>\n",
       "    </tr>\n",
       "    <tr>\n",
       "      <th>2</th>\n",
       "      <td>1</td>\n",
       "      <td>3</td>\n",
       "      <td>female</td>\n",
       "      <td>26.0</td>\n",
       "      <td>0</td>\n",
       "      <td>0</td>\n",
       "      <td>7.9250</td>\n",
       "      <td>S</td>\n",
       "      <td>Third</td>\n",
       "      <td>woman</td>\n",
       "      <td>False</td>\n",
       "      <td>NaN</td>\n",
       "      <td>Southampton</td>\n",
       "      <td>yes</td>\n",
       "      <td>True</td>\n",
       "    </tr>\n",
       "    <tr>\n",
       "      <th>3</th>\n",
       "      <td>1</td>\n",
       "      <td>1</td>\n",
       "      <td>female</td>\n",
       "      <td>35.0</td>\n",
       "      <td>1</td>\n",
       "      <td>0</td>\n",
       "      <td>53.1000</td>\n",
       "      <td>S</td>\n",
       "      <td>First</td>\n",
       "      <td>woman</td>\n",
       "      <td>False</td>\n",
       "      <td>C</td>\n",
       "      <td>Southampton</td>\n",
       "      <td>yes</td>\n",
       "      <td>False</td>\n",
       "    </tr>\n",
       "    <tr>\n",
       "      <th>4</th>\n",
       "      <td>0</td>\n",
       "      <td>3</td>\n",
       "      <td>male</td>\n",
       "      <td>35.0</td>\n",
       "      <td>0</td>\n",
       "      <td>0</td>\n",
       "      <td>8.0500</td>\n",
       "      <td>S</td>\n",
       "      <td>Third</td>\n",
       "      <td>man</td>\n",
       "      <td>True</td>\n",
       "      <td>NaN</td>\n",
       "      <td>Southampton</td>\n",
       "      <td>no</td>\n",
       "      <td>True</td>\n",
       "    </tr>\n",
       "  </tbody>\n",
       "</table>\n",
       "</div>"
      ],
      "text/plain": [
       "   survived  pclass     sex   age  sibsp  parch     fare embarked  class  \\\n",
       "0         0       3    male  22.0      1      0   7.2500        S  Third   \n",
       "1         1       1  female  38.0      1      0  71.2833        C  First   \n",
       "2         1       3  female  26.0      0      0   7.9250        S  Third   \n",
       "3         1       1  female  35.0      1      0  53.1000        S  First   \n",
       "4         0       3    male  35.0      0      0   8.0500        S  Third   \n",
       "\n",
       "     who  adult_male deck  embark_town alive  alone  \n",
       "0    man        True  NaN  Southampton    no  False  \n",
       "1  woman       False    C    Cherbourg   yes  False  \n",
       "2  woman       False  NaN  Southampton   yes   True  \n",
       "3  woman       False    C  Southampton   yes  False  \n",
       "4    man        True  NaN  Southampton    no   True  "
      ]
     },
     "execution_count": 4,
     "metadata": {},
     "output_type": "execute_result"
    }
   ],
   "source": [
    "data.head()"
   ]
  },
  {
   "cell_type": "markdown",
   "id": "bc2ea8c4",
   "metadata": {},
   "source": [
    "### As part of the whole analysis we are going through the following steps:\n",
    "     1- Manipulating column names\n",
    "     2- Dropping extra columns\n",
    "     3- Dropping Outlier\n",
    "     3- Replacing values \n",
    "     4- Handling Null Values\n",
    "     5- Analysis\n",
    "     "
   ]
  },
  {
   "cell_type": "markdown",
   "id": "85eb502e",
   "metadata": {},
   "source": [
    "# Manipulating Column Names"
   ]
  },
  {
   "cell_type": "code",
   "execution_count": 5,
   "id": "8e82fdc1",
   "metadata": {},
   "outputs": [
    {
     "data": {
      "text/plain": [
       "Index(['survived', 'pclass', 'sex', 'age', 'sibsp', 'parch', 'fare',\n",
       "       'embarked', 'class', 'who', 'adult_male', 'deck', 'embark_town',\n",
       "       'alive', 'alone'],\n",
       "      dtype='object')"
      ]
     },
     "execution_count": 5,
     "metadata": {},
     "output_type": "execute_result"
    }
   ],
   "source": [
    "data.columns"
   ]
  },
  {
   "cell_type": "code",
   "execution_count": 6,
   "id": "1e2c43fe",
   "metadata": {},
   "outputs": [],
   "source": [
    "mapping = {\n",
    "    \"who\":\"individual_type\",\n",
    "    \"sex\":\"gender\",\n",
    "    \"alive\":\"survival_status\",\n",
    "    \"sibsp\":\"sibling/spouse\",\n",
    "    \"pclass\":\"passenger_class\",\n",
    "    \"parch\": \"parent/children\"\n",
    "}"
   ]
  },
  {
   "cell_type": "code",
   "execution_count": 7,
   "id": "8d5fdc0d",
   "metadata": {},
   "outputs": [],
   "source": [
    "data.rename(mapping,axis = 1,inplace = True)"
   ]
  },
  {
   "cell_type": "code",
   "execution_count": 8,
   "id": "6ba4d42d",
   "metadata": {},
   "outputs": [
    {
     "data": {
      "text/html": [
       "<div>\n",
       "<style scoped>\n",
       "    .dataframe tbody tr th:only-of-type {\n",
       "        vertical-align: middle;\n",
       "    }\n",
       "\n",
       "    .dataframe tbody tr th {\n",
       "        vertical-align: top;\n",
       "    }\n",
       "\n",
       "    .dataframe thead th {\n",
       "        text-align: right;\n",
       "    }\n",
       "</style>\n",
       "<table border=\"1\" class=\"dataframe\">\n",
       "  <thead>\n",
       "    <tr style=\"text-align: right;\">\n",
       "      <th></th>\n",
       "      <th>survived</th>\n",
       "      <th>passenger_class</th>\n",
       "      <th>gender</th>\n",
       "      <th>age</th>\n",
       "      <th>sibling/spouse</th>\n",
       "      <th>parent/children</th>\n",
       "      <th>fare</th>\n",
       "      <th>embarked</th>\n",
       "      <th>class</th>\n",
       "      <th>individual_type</th>\n",
       "      <th>adult_male</th>\n",
       "      <th>deck</th>\n",
       "      <th>embark_town</th>\n",
       "      <th>survival_status</th>\n",
       "      <th>alone</th>\n",
       "    </tr>\n",
       "  </thead>\n",
       "  <tbody>\n",
       "    <tr>\n",
       "      <th>0</th>\n",
       "      <td>0</td>\n",
       "      <td>3</td>\n",
       "      <td>male</td>\n",
       "      <td>22.0</td>\n",
       "      <td>1</td>\n",
       "      <td>0</td>\n",
       "      <td>7.2500</td>\n",
       "      <td>S</td>\n",
       "      <td>Third</td>\n",
       "      <td>man</td>\n",
       "      <td>True</td>\n",
       "      <td>NaN</td>\n",
       "      <td>Southampton</td>\n",
       "      <td>no</td>\n",
       "      <td>False</td>\n",
       "    </tr>\n",
       "    <tr>\n",
       "      <th>1</th>\n",
       "      <td>1</td>\n",
       "      <td>1</td>\n",
       "      <td>female</td>\n",
       "      <td>38.0</td>\n",
       "      <td>1</td>\n",
       "      <td>0</td>\n",
       "      <td>71.2833</td>\n",
       "      <td>C</td>\n",
       "      <td>First</td>\n",
       "      <td>woman</td>\n",
       "      <td>False</td>\n",
       "      <td>C</td>\n",
       "      <td>Cherbourg</td>\n",
       "      <td>yes</td>\n",
       "      <td>False</td>\n",
       "    </tr>\n",
       "    <tr>\n",
       "      <th>2</th>\n",
       "      <td>1</td>\n",
       "      <td>3</td>\n",
       "      <td>female</td>\n",
       "      <td>26.0</td>\n",
       "      <td>0</td>\n",
       "      <td>0</td>\n",
       "      <td>7.9250</td>\n",
       "      <td>S</td>\n",
       "      <td>Third</td>\n",
       "      <td>woman</td>\n",
       "      <td>False</td>\n",
       "      <td>NaN</td>\n",
       "      <td>Southampton</td>\n",
       "      <td>yes</td>\n",
       "      <td>True</td>\n",
       "    </tr>\n",
       "    <tr>\n",
       "      <th>3</th>\n",
       "      <td>1</td>\n",
       "      <td>1</td>\n",
       "      <td>female</td>\n",
       "      <td>35.0</td>\n",
       "      <td>1</td>\n",
       "      <td>0</td>\n",
       "      <td>53.1000</td>\n",
       "      <td>S</td>\n",
       "      <td>First</td>\n",
       "      <td>woman</td>\n",
       "      <td>False</td>\n",
       "      <td>C</td>\n",
       "      <td>Southampton</td>\n",
       "      <td>yes</td>\n",
       "      <td>False</td>\n",
       "    </tr>\n",
       "    <tr>\n",
       "      <th>4</th>\n",
       "      <td>0</td>\n",
       "      <td>3</td>\n",
       "      <td>male</td>\n",
       "      <td>35.0</td>\n",
       "      <td>0</td>\n",
       "      <td>0</td>\n",
       "      <td>8.0500</td>\n",
       "      <td>S</td>\n",
       "      <td>Third</td>\n",
       "      <td>man</td>\n",
       "      <td>True</td>\n",
       "      <td>NaN</td>\n",
       "      <td>Southampton</td>\n",
       "      <td>no</td>\n",
       "      <td>True</td>\n",
       "    </tr>\n",
       "  </tbody>\n",
       "</table>\n",
       "</div>"
      ],
      "text/plain": [
       "   survived  passenger_class  gender   age  sibling/spouse  parent/children  \\\n",
       "0         0                3    male  22.0               1                0   \n",
       "1         1                1  female  38.0               1                0   \n",
       "2         1                3  female  26.0               0                0   \n",
       "3         1                1  female  35.0               1                0   \n",
       "4         0                3    male  35.0               0                0   \n",
       "\n",
       "      fare embarked  class individual_type  adult_male deck  embark_town  \\\n",
       "0   7.2500        S  Third             man        True  NaN  Southampton   \n",
       "1  71.2833        C  First           woman       False    C    Cherbourg   \n",
       "2   7.9250        S  Third           woman       False  NaN  Southampton   \n",
       "3  53.1000        S  First           woman       False    C  Southampton   \n",
       "4   8.0500        S  Third             man        True  NaN  Southampton   \n",
       "\n",
       "  survival_status  alone  \n",
       "0              no  False  \n",
       "1             yes  False  \n",
       "2             yes   True  \n",
       "3             yes  False  \n",
       "4              no   True  "
      ]
     },
     "execution_count": 8,
     "metadata": {},
     "output_type": "execute_result"
    }
   ],
   "source": [
    "data.head()"
   ]
  },
  {
   "cell_type": "markdown",
   "id": "89d078eb",
   "metadata": {},
   "source": [
    "## Dropping Extra Columns"
   ]
  },
  {
   "cell_type": "markdown",
   "id": "f2fe8fdc",
   "metadata": {},
   "source": [
    "        1-embarked is similar to embarked_town\n",
    "        2-survived is similar to survival status\n",
    "        3-Class is similar to passenger class"
   ]
  },
  {
   "cell_type": "code",
   "execution_count": 9,
   "id": "29be64bb",
   "metadata": {},
   "outputs": [],
   "source": [
    "data.drop([\"survived\",\"embarked\",\"class\"],axis =1,inplace = True)"
   ]
  },
  {
   "cell_type": "code",
   "execution_count": 10,
   "id": "724d6afb",
   "metadata": {
    "scrolled": false
   },
   "outputs": [
    {
     "data": {
      "text/html": [
       "<div>\n",
       "<style scoped>\n",
       "    .dataframe tbody tr th:only-of-type {\n",
       "        vertical-align: middle;\n",
       "    }\n",
       "\n",
       "    .dataframe tbody tr th {\n",
       "        vertical-align: top;\n",
       "    }\n",
       "\n",
       "    .dataframe thead th {\n",
       "        text-align: right;\n",
       "    }\n",
       "</style>\n",
       "<table border=\"1\" class=\"dataframe\">\n",
       "  <thead>\n",
       "    <tr style=\"text-align: right;\">\n",
       "      <th></th>\n",
       "      <th>passenger_class</th>\n",
       "      <th>gender</th>\n",
       "      <th>age</th>\n",
       "      <th>sibling/spouse</th>\n",
       "      <th>parent/children</th>\n",
       "      <th>fare</th>\n",
       "      <th>individual_type</th>\n",
       "      <th>adult_male</th>\n",
       "      <th>deck</th>\n",
       "      <th>embark_town</th>\n",
       "      <th>survival_status</th>\n",
       "      <th>alone</th>\n",
       "    </tr>\n",
       "  </thead>\n",
       "  <tbody>\n",
       "    <tr>\n",
       "      <th>0</th>\n",
       "      <td>3</td>\n",
       "      <td>male</td>\n",
       "      <td>22.0</td>\n",
       "      <td>1</td>\n",
       "      <td>0</td>\n",
       "      <td>7.2500</td>\n",
       "      <td>man</td>\n",
       "      <td>True</td>\n",
       "      <td>NaN</td>\n",
       "      <td>Southampton</td>\n",
       "      <td>no</td>\n",
       "      <td>False</td>\n",
       "    </tr>\n",
       "    <tr>\n",
       "      <th>1</th>\n",
       "      <td>1</td>\n",
       "      <td>female</td>\n",
       "      <td>38.0</td>\n",
       "      <td>1</td>\n",
       "      <td>0</td>\n",
       "      <td>71.2833</td>\n",
       "      <td>woman</td>\n",
       "      <td>False</td>\n",
       "      <td>C</td>\n",
       "      <td>Cherbourg</td>\n",
       "      <td>yes</td>\n",
       "      <td>False</td>\n",
       "    </tr>\n",
       "    <tr>\n",
       "      <th>2</th>\n",
       "      <td>3</td>\n",
       "      <td>female</td>\n",
       "      <td>26.0</td>\n",
       "      <td>0</td>\n",
       "      <td>0</td>\n",
       "      <td>7.9250</td>\n",
       "      <td>woman</td>\n",
       "      <td>False</td>\n",
       "      <td>NaN</td>\n",
       "      <td>Southampton</td>\n",
       "      <td>yes</td>\n",
       "      <td>True</td>\n",
       "    </tr>\n",
       "    <tr>\n",
       "      <th>3</th>\n",
       "      <td>1</td>\n",
       "      <td>female</td>\n",
       "      <td>35.0</td>\n",
       "      <td>1</td>\n",
       "      <td>0</td>\n",
       "      <td>53.1000</td>\n",
       "      <td>woman</td>\n",
       "      <td>False</td>\n",
       "      <td>C</td>\n",
       "      <td>Southampton</td>\n",
       "      <td>yes</td>\n",
       "      <td>False</td>\n",
       "    </tr>\n",
       "    <tr>\n",
       "      <th>4</th>\n",
       "      <td>3</td>\n",
       "      <td>male</td>\n",
       "      <td>35.0</td>\n",
       "      <td>0</td>\n",
       "      <td>0</td>\n",
       "      <td>8.0500</td>\n",
       "      <td>man</td>\n",
       "      <td>True</td>\n",
       "      <td>NaN</td>\n",
       "      <td>Southampton</td>\n",
       "      <td>no</td>\n",
       "      <td>True</td>\n",
       "    </tr>\n",
       "  </tbody>\n",
       "</table>\n",
       "</div>"
      ],
      "text/plain": [
       "   passenger_class  gender   age  sibling/spouse  parent/children     fare  \\\n",
       "0                3    male  22.0               1                0   7.2500   \n",
       "1                1  female  38.0               1                0  71.2833   \n",
       "2                3  female  26.0               0                0   7.9250   \n",
       "3                1  female  35.0               1                0  53.1000   \n",
       "4                3    male  35.0               0                0   8.0500   \n",
       "\n",
       "  individual_type  adult_male deck  embark_town survival_status  alone  \n",
       "0             man        True  NaN  Southampton              no  False  \n",
       "1           woman       False    C    Cherbourg             yes  False  \n",
       "2           woman       False  NaN  Southampton             yes   True  \n",
       "3           woman       False    C  Southampton             yes  False  \n",
       "4             man        True  NaN  Southampton              no   True  "
      ]
     },
     "execution_count": 10,
     "metadata": {},
     "output_type": "execute_result"
    }
   ],
   "source": [
    "data.head()"
   ]
  },
  {
   "cell_type": "markdown",
   "id": "a4f8fd49",
   "metadata": {},
   "source": [
    "# Dropping duplicates"
   ]
  },
  {
   "cell_type": "code",
   "execution_count": 11,
   "id": "e905ab4d",
   "metadata": {},
   "outputs": [],
   "source": [
    "data = data.drop_duplicates()"
   ]
  },
  {
   "cell_type": "code",
   "execution_count": 12,
   "id": "a05be3a4",
   "metadata": {},
   "outputs": [
    {
     "name": "stdout",
     "output_type": "stream",
     "text": [
      "<class 'pandas.core.frame.DataFrame'>\n",
      "Index: 784 entries, 0 to 890\n",
      "Data columns (total 12 columns):\n",
      " #   Column           Non-Null Count  Dtype  \n",
      "---  ------           --------------  -----  \n",
      " 0   passenger_class  784 non-null    int64  \n",
      " 1   gender           784 non-null    object \n",
      " 2   age              678 non-null    float64\n",
      " 3   sibling/spouse   784 non-null    int64  \n",
      " 4   parent/children  784 non-null    int64  \n",
      " 5   fare             784 non-null    float64\n",
      " 6   individual_type  784 non-null    object \n",
      " 7   adult_male       784 non-null    bool   \n",
      " 8   deck             202 non-null    object \n",
      " 9   embark_town      782 non-null    object \n",
      " 10  survival_status  784 non-null    object \n",
      " 11  alone            784 non-null    bool   \n",
      "dtypes: bool(2), float64(2), int64(3), object(5)\n",
      "memory usage: 68.9+ KB\n"
     ]
    }
   ],
   "source": [
    "data.info()"
   ]
  },
  {
   "cell_type": "markdown",
   "id": "276012ca",
   "metadata": {},
   "source": [
    "# Removing Outlier"
   ]
  },
  {
   "cell_type": "code",
   "execution_count": 13,
   "id": "6d4474e6",
   "metadata": {},
   "outputs": [
    {
     "data": {
      "text/html": [
       "<div>\n",
       "<style scoped>\n",
       "    .dataframe tbody tr th:only-of-type {\n",
       "        vertical-align: middle;\n",
       "    }\n",
       "\n",
       "    .dataframe tbody tr th {\n",
       "        vertical-align: top;\n",
       "    }\n",
       "\n",
       "    .dataframe thead th {\n",
       "        text-align: right;\n",
       "    }\n",
       "</style>\n",
       "<table border=\"1\" class=\"dataframe\">\n",
       "  <thead>\n",
       "    <tr style=\"text-align: right;\">\n",
       "      <th></th>\n",
       "      <th>passenger_class</th>\n",
       "      <th>age</th>\n",
       "      <th>sibling/spouse</th>\n",
       "      <th>parent/children</th>\n",
       "      <th>fare</th>\n",
       "    </tr>\n",
       "  </thead>\n",
       "  <tbody>\n",
       "    <tr>\n",
       "      <th>count</th>\n",
       "      <td>784.000000</td>\n",
       "      <td>678.000000</td>\n",
       "      <td>784.000000</td>\n",
       "      <td>784.000000</td>\n",
       "      <td>784.000000</td>\n",
       "    </tr>\n",
       "    <tr>\n",
       "      <th>mean</th>\n",
       "      <td>2.243622</td>\n",
       "      <td>29.869351</td>\n",
       "      <td>0.522959</td>\n",
       "      <td>0.415816</td>\n",
       "      <td>34.711740</td>\n",
       "    </tr>\n",
       "    <tr>\n",
       "      <th>std</th>\n",
       "      <td>0.855056</td>\n",
       "      <td>14.759076</td>\n",
       "      <td>0.986231</td>\n",
       "      <td>0.836922</td>\n",
       "      <td>52.160151</td>\n",
       "    </tr>\n",
       "    <tr>\n",
       "      <th>min</th>\n",
       "      <td>1.000000</td>\n",
       "      <td>0.420000</td>\n",
       "      <td>0.000000</td>\n",
       "      <td>0.000000</td>\n",
       "      <td>0.000000</td>\n",
       "    </tr>\n",
       "    <tr>\n",
       "      <th>25%</th>\n",
       "      <td>1.000000</td>\n",
       "      <td>20.000000</td>\n",
       "      <td>0.000000</td>\n",
       "      <td>0.000000</td>\n",
       "      <td>8.050000</td>\n",
       "    </tr>\n",
       "    <tr>\n",
       "      <th>50%</th>\n",
       "      <td>3.000000</td>\n",
       "      <td>28.250000</td>\n",
       "      <td>0.000000</td>\n",
       "      <td>0.000000</td>\n",
       "      <td>15.900000</td>\n",
       "    </tr>\n",
       "    <tr>\n",
       "      <th>75%</th>\n",
       "      <td>3.000000</td>\n",
       "      <td>39.000000</td>\n",
       "      <td>1.000000</td>\n",
       "      <td>1.000000</td>\n",
       "      <td>34.109350</td>\n",
       "    </tr>\n",
       "    <tr>\n",
       "      <th>max</th>\n",
       "      <td>3.000000</td>\n",
       "      <td>80.000000</td>\n",
       "      <td>8.000000</td>\n",
       "      <td>6.000000</td>\n",
       "      <td>512.329200</td>\n",
       "    </tr>\n",
       "  </tbody>\n",
       "</table>\n",
       "</div>"
      ],
      "text/plain": [
       "       passenger_class         age  sibling/spouse  parent/children  \\\n",
       "count       784.000000  678.000000      784.000000       784.000000   \n",
       "mean          2.243622   29.869351        0.522959         0.415816   \n",
       "std           0.855056   14.759076        0.986231         0.836922   \n",
       "min           1.000000    0.420000        0.000000         0.000000   \n",
       "25%           1.000000   20.000000        0.000000         0.000000   \n",
       "50%           3.000000   28.250000        0.000000         0.000000   \n",
       "75%           3.000000   39.000000        1.000000         1.000000   \n",
       "max           3.000000   80.000000        8.000000         6.000000   \n",
       "\n",
       "             fare  \n",
       "count  784.000000  \n",
       "mean    34.711740  \n",
       "std     52.160151  \n",
       "min      0.000000  \n",
       "25%      8.050000  \n",
       "50%     15.900000  \n",
       "75%     34.109350  \n",
       "max    512.329200  "
      ]
     },
     "execution_count": 13,
     "metadata": {},
     "output_type": "execute_result"
    }
   ],
   "source": [
    "data.describe()"
   ]
  },
  {
   "cell_type": "markdown",
   "id": "0102d29b",
   "metadata": {},
   "source": [
    "-----\n",
    "The max value of fare is way too greater than the max value."
   ]
  },
  {
   "cell_type": "code",
   "execution_count": 14,
   "id": "7234cb7a",
   "metadata": {},
   "outputs": [],
   "source": [
    "data = data[data[\"fare\"] != 512.329200]"
   ]
  },
  {
   "cell_type": "code",
   "execution_count": 15,
   "id": "3fa29669",
   "metadata": {},
   "outputs": [
    {
     "data": {
      "text/html": [
       "<div>\n",
       "<style scoped>\n",
       "    .dataframe tbody tr th:only-of-type {\n",
       "        vertical-align: middle;\n",
       "    }\n",
       "\n",
       "    .dataframe tbody tr th {\n",
       "        vertical-align: top;\n",
       "    }\n",
       "\n",
       "    .dataframe thead th {\n",
       "        text-align: right;\n",
       "    }\n",
       "</style>\n",
       "<table border=\"1\" class=\"dataframe\">\n",
       "  <thead>\n",
       "    <tr style=\"text-align: right;\">\n",
       "      <th></th>\n",
       "      <th>passenger_class</th>\n",
       "      <th>age</th>\n",
       "      <th>sibling/spouse</th>\n",
       "      <th>parent/children</th>\n",
       "      <th>fare</th>\n",
       "    </tr>\n",
       "  </thead>\n",
       "  <tbody>\n",
       "    <tr>\n",
       "      <th>count</th>\n",
       "      <td>781.000000</td>\n",
       "      <td>675.000000</td>\n",
       "      <td>781.000000</td>\n",
       "      <td>781.000000</td>\n",
       "      <td>781.000000</td>\n",
       "    </tr>\n",
       "    <tr>\n",
       "      <th>mean</th>\n",
       "      <td>2.248399</td>\n",
       "      <td>29.845067</td>\n",
       "      <td>0.524968</td>\n",
       "      <td>0.416133</td>\n",
       "      <td>32.877102</td>\n",
       "    </tr>\n",
       "    <tr>\n",
       "      <th>std</th>\n",
       "      <td>0.853207</td>\n",
       "      <td>14.787341</td>\n",
       "      <td>0.987592</td>\n",
       "      <td>0.838005</td>\n",
       "      <td>43.016238</td>\n",
       "    </tr>\n",
       "    <tr>\n",
       "      <th>min</th>\n",
       "      <td>1.000000</td>\n",
       "      <td>0.420000</td>\n",
       "      <td>0.000000</td>\n",
       "      <td>0.000000</td>\n",
       "      <td>0.000000</td>\n",
       "    </tr>\n",
       "    <tr>\n",
       "      <th>25%</th>\n",
       "      <td>1.000000</td>\n",
       "      <td>20.000000</td>\n",
       "      <td>0.000000</td>\n",
       "      <td>0.000000</td>\n",
       "      <td>8.050000</td>\n",
       "    </tr>\n",
       "    <tr>\n",
       "      <th>50%</th>\n",
       "      <td>3.000000</td>\n",
       "      <td>28.000000</td>\n",
       "      <td>0.000000</td>\n",
       "      <td>0.000000</td>\n",
       "      <td>15.850000</td>\n",
       "    </tr>\n",
       "    <tr>\n",
       "      <th>75%</th>\n",
       "      <td>3.000000</td>\n",
       "      <td>39.000000</td>\n",
       "      <td>1.000000</td>\n",
       "      <td>1.000000</td>\n",
       "      <td>33.000000</td>\n",
       "    </tr>\n",
       "    <tr>\n",
       "      <th>max</th>\n",
       "      <td>3.000000</td>\n",
       "      <td>80.000000</td>\n",
       "      <td>8.000000</td>\n",
       "      <td>6.000000</td>\n",
       "      <td>263.000000</td>\n",
       "    </tr>\n",
       "  </tbody>\n",
       "</table>\n",
       "</div>"
      ],
      "text/plain": [
       "       passenger_class         age  sibling/spouse  parent/children  \\\n",
       "count       781.000000  675.000000      781.000000       781.000000   \n",
       "mean          2.248399   29.845067        0.524968         0.416133   \n",
       "std           0.853207   14.787341        0.987592         0.838005   \n",
       "min           1.000000    0.420000        0.000000         0.000000   \n",
       "25%           1.000000   20.000000        0.000000         0.000000   \n",
       "50%           3.000000   28.000000        0.000000         0.000000   \n",
       "75%           3.000000   39.000000        1.000000         1.000000   \n",
       "max           3.000000   80.000000        8.000000         6.000000   \n",
       "\n",
       "             fare  \n",
       "count  781.000000  \n",
       "mean    32.877102  \n",
       "std     43.016238  \n",
       "min      0.000000  \n",
       "25%      8.050000  \n",
       "50%     15.850000  \n",
       "75%     33.000000  \n",
       "max    263.000000  "
      ]
     },
     "execution_count": 15,
     "metadata": {},
     "output_type": "execute_result"
    }
   ],
   "source": [
    "data.describe()"
   ]
  },
  {
   "cell_type": "markdown",
   "id": "ec6fff41",
   "metadata": {},
   "source": [
    "# Replacing Values"
   ]
  },
  {
   "cell_type": "code",
   "execution_count": 16,
   "id": "3ae4dd81",
   "metadata": {},
   "outputs": [],
   "source": [
    "data[\"alone\"] = data[\"alone\"].replace({True:\"yes\",False:\"no\"})"
   ]
  },
  {
   "cell_type": "code",
   "execution_count": 17,
   "id": "402f0b67",
   "metadata": {},
   "outputs": [],
   "source": [
    "data[\"adult_male\"] = data[\"adult_male\"].replace({True:\"yes\",False:\"no\"})"
   ]
  },
  {
   "cell_type": "code",
   "execution_count": 18,
   "id": "edf4f33b",
   "metadata": {},
   "outputs": [
    {
     "data": {
      "text/html": [
       "<div>\n",
       "<style scoped>\n",
       "    .dataframe tbody tr th:only-of-type {\n",
       "        vertical-align: middle;\n",
       "    }\n",
       "\n",
       "    .dataframe tbody tr th {\n",
       "        vertical-align: top;\n",
       "    }\n",
       "\n",
       "    .dataframe thead th {\n",
       "        text-align: right;\n",
       "    }\n",
       "</style>\n",
       "<table border=\"1\" class=\"dataframe\">\n",
       "  <thead>\n",
       "    <tr style=\"text-align: right;\">\n",
       "      <th></th>\n",
       "      <th>passenger_class</th>\n",
       "      <th>gender</th>\n",
       "      <th>age</th>\n",
       "      <th>sibling/spouse</th>\n",
       "      <th>parent/children</th>\n",
       "      <th>fare</th>\n",
       "      <th>individual_type</th>\n",
       "      <th>adult_male</th>\n",
       "      <th>deck</th>\n",
       "      <th>embark_town</th>\n",
       "      <th>survival_status</th>\n",
       "      <th>alone</th>\n",
       "    </tr>\n",
       "  </thead>\n",
       "  <tbody>\n",
       "    <tr>\n",
       "      <th>0</th>\n",
       "      <td>3</td>\n",
       "      <td>male</td>\n",
       "      <td>22.0</td>\n",
       "      <td>1</td>\n",
       "      <td>0</td>\n",
       "      <td>7.2500</td>\n",
       "      <td>man</td>\n",
       "      <td>yes</td>\n",
       "      <td>NaN</td>\n",
       "      <td>Southampton</td>\n",
       "      <td>no</td>\n",
       "      <td>no</td>\n",
       "    </tr>\n",
       "    <tr>\n",
       "      <th>1</th>\n",
       "      <td>1</td>\n",
       "      <td>female</td>\n",
       "      <td>38.0</td>\n",
       "      <td>1</td>\n",
       "      <td>0</td>\n",
       "      <td>71.2833</td>\n",
       "      <td>woman</td>\n",
       "      <td>no</td>\n",
       "      <td>C</td>\n",
       "      <td>Cherbourg</td>\n",
       "      <td>yes</td>\n",
       "      <td>no</td>\n",
       "    </tr>\n",
       "    <tr>\n",
       "      <th>2</th>\n",
       "      <td>3</td>\n",
       "      <td>female</td>\n",
       "      <td>26.0</td>\n",
       "      <td>0</td>\n",
       "      <td>0</td>\n",
       "      <td>7.9250</td>\n",
       "      <td>woman</td>\n",
       "      <td>no</td>\n",
       "      <td>NaN</td>\n",
       "      <td>Southampton</td>\n",
       "      <td>yes</td>\n",
       "      <td>yes</td>\n",
       "    </tr>\n",
       "    <tr>\n",
       "      <th>3</th>\n",
       "      <td>1</td>\n",
       "      <td>female</td>\n",
       "      <td>35.0</td>\n",
       "      <td>1</td>\n",
       "      <td>0</td>\n",
       "      <td>53.1000</td>\n",
       "      <td>woman</td>\n",
       "      <td>no</td>\n",
       "      <td>C</td>\n",
       "      <td>Southampton</td>\n",
       "      <td>yes</td>\n",
       "      <td>no</td>\n",
       "    </tr>\n",
       "    <tr>\n",
       "      <th>4</th>\n",
       "      <td>3</td>\n",
       "      <td>male</td>\n",
       "      <td>35.0</td>\n",
       "      <td>0</td>\n",
       "      <td>0</td>\n",
       "      <td>8.0500</td>\n",
       "      <td>man</td>\n",
       "      <td>yes</td>\n",
       "      <td>NaN</td>\n",
       "      <td>Southampton</td>\n",
       "      <td>no</td>\n",
       "      <td>yes</td>\n",
       "    </tr>\n",
       "  </tbody>\n",
       "</table>\n",
       "</div>"
      ],
      "text/plain": [
       "   passenger_class  gender   age  sibling/spouse  parent/children     fare  \\\n",
       "0                3    male  22.0               1                0   7.2500   \n",
       "1                1  female  38.0               1                0  71.2833   \n",
       "2                3  female  26.0               0                0   7.9250   \n",
       "3                1  female  35.0               1                0  53.1000   \n",
       "4                3    male  35.0               0                0   8.0500   \n",
       "\n",
       "  individual_type adult_male deck  embark_town survival_status alone  \n",
       "0             man        yes  NaN  Southampton              no    no  \n",
       "1           woman         no    C    Cherbourg             yes    no  \n",
       "2           woman         no  NaN  Southampton             yes   yes  \n",
       "3           woman         no    C  Southampton             yes    no  \n",
       "4             man        yes  NaN  Southampton              no   yes  "
      ]
     },
     "execution_count": 18,
     "metadata": {},
     "output_type": "execute_result"
    }
   ],
   "source": [
    "data.head()"
   ]
  },
  {
   "cell_type": "markdown",
   "id": "0412d572",
   "metadata": {},
   "source": [
    "# Handling Null Values"
   ]
  },
  {
   "cell_type": "code",
   "execution_count": 19,
   "id": "4e2f003e",
   "metadata": {
    "scrolled": true
   },
   "outputs": [
    {
     "name": "stdout",
     "output_type": "stream",
     "text": [
      "<class 'pandas.core.frame.DataFrame'>\n",
      "Index: 781 entries, 0 to 890\n",
      "Data columns (total 12 columns):\n",
      " #   Column           Non-Null Count  Dtype  \n",
      "---  ------           --------------  -----  \n",
      " 0   passenger_class  781 non-null    int64  \n",
      " 1   gender           781 non-null    object \n",
      " 2   age              675 non-null    float64\n",
      " 3   sibling/spouse   781 non-null    int64  \n",
      " 4   parent/children  781 non-null    int64  \n",
      " 5   fare             781 non-null    float64\n",
      " 6   individual_type  781 non-null    object \n",
      " 7   adult_male       781 non-null    object \n",
      " 8   deck             200 non-null    object \n",
      " 9   embark_town      779 non-null    object \n",
      " 10  survival_status  781 non-null    object \n",
      " 11  alone            781 non-null    object \n",
      "dtypes: float64(2), int64(3), object(7)\n",
      "memory usage: 79.3+ KB\n"
     ]
    }
   ],
   "source": [
    "data.info()"
   ]
  },
  {
   "cell_type": "markdown",
   "id": "8a7aad01",
   "metadata": {},
   "source": [
    "------\n",
    "    1-deck\n",
    "    2-age\n",
    "    3-embark_town"
   ]
  },
  {
   "cell_type": "markdown",
   "id": "d2e70446",
   "metadata": {},
   "source": [
    "## 1- Deck\n",
    "\n",
    "**Though deck has a lot of null values and normally such type of column is removed but it has a really important role in     analysis. Furthermore, there are various factors in dataset that can help us determine the deck.**\n",
    "\n",
    "**Based on additional information gained, the people on each deck belong to different classes yet they have segregations and different provided facilities.**"
   ]
  },
  {
   "cell_type": "code",
   "execution_count": 20,
   "id": "0532df08",
   "metadata": {},
   "outputs": [
    {
     "data": {
      "text/plain": [
       "deck\n",
       "C    59\n",
       "B    44\n",
       "D    33\n",
       "E    32\n",
       "A    15\n",
       "F    13\n",
       "G     4\n",
       "Name: count, dtype: int64"
      ]
     },
     "execution_count": 20,
     "metadata": {},
     "output_type": "execute_result"
    }
   ],
   "source": [
    "data[\"deck\"].value_counts()"
   ]
  },
  {
   "cell_type": "markdown",
   "id": "13d9c027",
   "metadata": {},
   "source": [
    "-----\n",
    "A lot of people in deck C"
   ]
  },
  {
   "cell_type": "markdown",
   "id": "c22acd3c",
   "metadata": {},
   "source": [
    "### Checking the relationship of deck with fare and passenger class\n",
    "The reason for considering both factors is what I have mentioned above: there are people of all classes on each deck thus paying fares based on classes. In order to find the most probable deck we can't depend on any one factor.\n",
    "There are different passenger classes on each deck and all the classes within each deck may be paying different fares.\n",
    "For example, the first class passengers on deck B might be paying less fare on deck C."
   ]
  },
  {
   "cell_type": "code",
   "execution_count": 27,
   "id": "ecd2c500",
   "metadata": {
    "scrolled": true
   },
   "outputs": [
    {
     "name": "stderr",
     "output_type": "stream",
     "text": [
      "C:\\Users\\Imran\\anaconda3\\Lib\\site-packages\\seaborn\\axisgrid.py:118: UserWarning: The figure layout has changed to tight\n",
      "  self._figure.tight_layout(*args, **kwargs)\n"
     ]
    },
    {
     "data": {
      "image/png": "[encoded data removed]",
      "text/plain": [
       "<Figure size 1576.62x500 with 3 Axes>"
      ]
     },
     "metadata": {},
     "output_type": "display_data"
    }
   ],
   "source": [
    "sns.relplot(data,x = \"deck\",y = \"fare\",col=\"passenger_class\",hue = \"fare\");"
   ]
  },
  {
   "cell_type": "markdown",
   "id": "4095aaf1",
   "metadata": {},
   "source": [
    "------\n",
    "Deck C and B have higher fares for first class passengers\n",
    "\n",
    "------\n",
    "The problem is that we need numerics to find the null values"
   ]
  },
  {
   "cell_type": "markdown",
   "id": "815ed7fa",
   "metadata": {},
   "source": [
    "### Checking for the mean and median of fares for each deck"
   ]
  },
  {
   "cell_type": "code",
   "execution_count": 28,
   "id": "e257c615",
   "metadata": {},
   "outputs": [],
   "source": [
    "agg_results = data.groupby(['passenger_class', 'deck'])['fare'].agg(['mean', 'median','max','min']).round().reset_index()"
   ]
  },
  {
   "cell_type": "code",
   "execution_count": 29,
   "id": "4d8de5d6",
   "metadata": {
    "scrolled": true
   },
   "outputs": [
    {
     "data": {
      "text/html": [
       "<div>\n",
       "<style scoped>\n",
       "    .dataframe tbody tr th:only-of-type {\n",
       "        vertical-align: middle;\n",
       "    }\n",
       "\n",
       "    .dataframe tbody tr th {\n",
       "        vertical-align: top;\n",
       "    }\n",
       "\n",
       "    .dataframe thead th {\n",
       "        text-align: right;\n",
       "    }\n",
       "</style>\n",
       "<table border=\"1\" class=\"dataframe\">\n",
       "  <thead>\n",
       "    <tr style=\"text-align: right;\">\n",
       "      <th></th>\n",
       "      <th>passenger_class</th>\n",
       "      <th>deck</th>\n",
       "      <th>mean</th>\n",
       "      <th>median</th>\n",
       "      <th>max</th>\n",
       "      <th>min</th>\n",
       "    </tr>\n",
       "  </thead>\n",
       "  <tbody>\n",
       "    <tr>\n",
       "      <th>0</th>\n",
       "      <td>1</td>\n",
       "      <td>A</td>\n",
       "      <td>40.0</td>\n",
       "      <td>36.0</td>\n",
       "      <td>82.0</td>\n",
       "      <td>0.0</td>\n",
       "    </tr>\n",
       "    <tr>\n",
       "      <th>1</th>\n",
       "      <td>1</td>\n",
       "      <td>B</td>\n",
       "      <td>96.0</td>\n",
       "      <td>80.0</td>\n",
       "      <td>262.0</td>\n",
       "      <td>0.0</td>\n",
       "    </tr>\n",
       "    <tr>\n",
       "      <th>2</th>\n",
       "      <td>1</td>\n",
       "      <td>C</td>\n",
       "      <td>100.0</td>\n",
       "      <td>83.0</td>\n",
       "      <td>263.0</td>\n",
       "      <td>27.0</td>\n",
       "    </tr>\n",
       "    <tr>\n",
       "      <th>3</th>\n",
       "      <td>1</td>\n",
       "      <td>D</td>\n",
       "      <td>63.0</td>\n",
       "      <td>75.0</td>\n",
       "      <td>113.0</td>\n",
       "      <td>26.0</td>\n",
       "    </tr>\n",
       "    <tr>\n",
       "      <th>4</th>\n",
       "      <td>1</td>\n",
       "      <td>E</td>\n",
       "      <td>56.0</td>\n",
       "      <td>55.0</td>\n",
       "      <td>134.0</td>\n",
       "      <td>26.0</td>\n",
       "    </tr>\n",
       "    <tr>\n",
       "      <th>5</th>\n",
       "      <td>2</td>\n",
       "      <td>D</td>\n",
       "      <td>13.0</td>\n",
       "      <td>13.0</td>\n",
       "      <td>14.0</td>\n",
       "      <td>13.0</td>\n",
       "    </tr>\n",
       "    <tr>\n",
       "      <th>6</th>\n",
       "      <td>2</td>\n",
       "      <td>E</td>\n",
       "      <td>12.0</td>\n",
       "      <td>11.0</td>\n",
       "      <td>13.0</td>\n",
       "      <td>10.0</td>\n",
       "    </tr>\n",
       "    <tr>\n",
       "      <th>7</th>\n",
       "      <td>2</td>\n",
       "      <td>F</td>\n",
       "      <td>24.0</td>\n",
       "      <td>26.0</td>\n",
       "      <td>39.0</td>\n",
       "      <td>10.0</td>\n",
       "    </tr>\n",
       "    <tr>\n",
       "      <th>8</th>\n",
       "      <td>3</td>\n",
       "      <td>E</td>\n",
       "      <td>11.0</td>\n",
       "      <td>12.0</td>\n",
       "      <td>12.0</td>\n",
       "      <td>8.0</td>\n",
       "    </tr>\n",
       "    <tr>\n",
       "      <th>9</th>\n",
       "      <td>3</td>\n",
       "      <td>F</td>\n",
       "      <td>11.0</td>\n",
       "      <td>8.0</td>\n",
       "      <td>22.0</td>\n",
       "      <td>8.0</td>\n",
       "    </tr>\n",
       "    <tr>\n",
       "      <th>10</th>\n",
       "      <td>3</td>\n",
       "      <td>G</td>\n",
       "      <td>14.0</td>\n",
       "      <td>14.0</td>\n",
       "      <td>17.0</td>\n",
       "      <td>10.0</td>\n",
       "    </tr>\n",
       "  </tbody>\n",
       "</table>\n",
       "</div>"
      ],
      "text/plain": [
       "    passenger_class deck   mean  median    max   min\n",
       "0                 1    A   40.0    36.0   82.0   0.0\n",
       "1                 1    B   96.0    80.0  262.0   0.0\n",
       "2                 1    C  100.0    83.0  263.0  27.0\n",
       "3                 1    D   63.0    75.0  113.0  26.0\n",
       "4                 1    E   56.0    55.0  134.0  26.0\n",
       "5                 2    D   13.0    13.0   14.0  13.0\n",
       "6                 2    E   12.0    11.0   13.0  10.0\n",
       "7                 2    F   24.0    26.0   39.0  10.0\n",
       "8                 3    E   11.0    12.0   12.0   8.0\n",
       "9                 3    F   11.0     8.0   22.0   8.0\n",
       "10                3    G   14.0    14.0   17.0  10.0"
      ]
     },
     "execution_count": 29,
     "metadata": {},
     "output_type": "execute_result"
    }
   ],
   "source": [
    "agg_results"
   ]
  },
  {
   "cell_type": "markdown",
   "id": "e2bfcb59",
   "metadata": {},
   "source": [
    "---------\n",
    "Since mean and median do not have a large differences, we can use mean for analysis"
   ]
  },
  {
   "cell_type": "code",
   "execution_count": 30,
   "id": "86f2257e",
   "metadata": {},
   "outputs": [],
   "source": [
    "agg_results.drop(\"median\",axis = 1,inplace = True)"
   ]
  },
  {
   "cell_type": "code",
   "execution_count": 31,
   "id": "ff41aa8d",
   "metadata": {},
   "outputs": [],
   "source": [
    "pivot_results = agg_results.pivot_table(index='deck', columns='passenger_class', values=['mean','max','min'])"
   ]
  },
  {
   "cell_type": "code",
   "execution_count": 32,
   "id": "ff3ce8e5",
   "metadata": {},
   "outputs": [
    {
     "data": {
      "text/html": [
       "<div>\n",
       "<style scoped>\n",
       "    .dataframe tbody tr th:only-of-type {\n",
       "        vertical-align: middle;\n",
       "    }\n",
       "\n",
       "    .dataframe tbody tr th {\n",
       "        vertical-align: top;\n",
       "    }\n",
       "\n",
       "    .dataframe thead tr th {\n",
       "        text-align: left;\n",
       "    }\n",
       "\n",
       "    .dataframe thead tr:last-of-type th {\n",
       "        text-align: right;\n",
       "    }\n",
       "</style>\n",
       "<table border=\"1\" class=\"dataframe\">\n",
       "  <thead>\n",
       "    <tr>\n",
       "      <th></th>\n",
       "      <th colspan=\"3\" halign=\"left\">max</th>\n",
       "      <th colspan=\"3\" halign=\"left\">mean</th>\n",
       "      <th colspan=\"3\" halign=\"left\">min</th>\n",
       "    </tr>\n",
       "    <tr>\n",
       "      <th>passenger_class</th>\n",
       "      <th>1</th>\n",
       "      <th>2</th>\n",
       "      <th>3</th>\n",
       "      <th>1</th>\n",
       "      <th>2</th>\n",
       "      <th>3</th>\n",
       "      <th>1</th>\n",
       "      <th>2</th>\n",
       "      <th>3</th>\n",
       "    </tr>\n",
       "    <tr>\n",
       "      <th>deck</th>\n",
       "      <th></th>\n",
       "      <th></th>\n",
       "      <th></th>\n",
       "      <th></th>\n",
       "      <th></th>\n",
       "      <th></th>\n",
       "      <th></th>\n",
       "      <th></th>\n",
       "      <th></th>\n",
       "    </tr>\n",
       "  </thead>\n",
       "  <tbody>\n",
       "    <tr>\n",
       "      <th>A</th>\n",
       "      <td>82.0</td>\n",
       "      <td>NaN</td>\n",
       "      <td>NaN</td>\n",
       "      <td>40.0</td>\n",
       "      <td>NaN</td>\n",
       "      <td>NaN</td>\n",
       "      <td>0.0</td>\n",
       "      <td>NaN</td>\n",
       "      <td>NaN</td>\n",
       "    </tr>\n",
       "    <tr>\n",
       "      <th>B</th>\n",
       "      <td>262.0</td>\n",
       "      <td>NaN</td>\n",
       "      <td>NaN</td>\n",
       "      <td>96.0</td>\n",
       "      <td>NaN</td>\n",
       "      <td>NaN</td>\n",
       "      <td>0.0</td>\n",
       "      <td>NaN</td>\n",
       "      <td>NaN</td>\n",
       "    </tr>\n",
       "    <tr>\n",
       "      <th>C</th>\n",
       "      <td>263.0</td>\n",
       "      <td>NaN</td>\n",
       "      <td>NaN</td>\n",
       "      <td>100.0</td>\n",
       "      <td>NaN</td>\n",
       "      <td>NaN</td>\n",
       "      <td>27.0</td>\n",
       "      <td>NaN</td>\n",
       "      <td>NaN</td>\n",
       "    </tr>\n",
       "    <tr>\n",
       "      <th>D</th>\n",
       "      <td>113.0</td>\n",
       "      <td>14.0</td>\n",
       "      <td>NaN</td>\n",
       "      <td>63.0</td>\n",
       "      <td>13.0</td>\n",
       "      <td>NaN</td>\n",
       "      <td>26.0</td>\n",
       "      <td>13.0</td>\n",
       "      <td>NaN</td>\n",
       "    </tr>\n",
       "    <tr>\n",
       "      <th>E</th>\n",
       "      <td>134.0</td>\n",
       "      <td>13.0</td>\n",
       "      <td>12.0</td>\n",
       "      <td>56.0</td>\n",
       "      <td>12.0</td>\n",
       "      <td>11.0</td>\n",
       "      <td>26.0</td>\n",
       "      <td>10.0</td>\n",
       "      <td>8.0</td>\n",
       "    </tr>\n",
       "    <tr>\n",
       "      <th>F</th>\n",
       "      <td>NaN</td>\n",
       "      <td>39.0</td>\n",
       "      <td>22.0</td>\n",
       "      <td>NaN</td>\n",
       "      <td>24.0</td>\n",
       "      <td>11.0</td>\n",
       "      <td>NaN</td>\n",
       "      <td>10.0</td>\n",
       "      <td>8.0</td>\n",
       "    </tr>\n",
       "    <tr>\n",
       "      <th>G</th>\n",
       "      <td>NaN</td>\n",
       "      <td>NaN</td>\n",
       "      <td>17.0</td>\n",
       "      <td>NaN</td>\n",
       "      <td>NaN</td>\n",
       "      <td>14.0</td>\n",
       "      <td>NaN</td>\n",
       "      <td>NaN</td>\n",
       "      <td>10.0</td>\n",
       "    </tr>\n",
       "  </tbody>\n",
       "</table>\n",
       "</div>"
      ],
      "text/plain": [
       "                   max               mean               min            \n",
       "passenger_class      1     2     3      1     2     3     1     2     3\n",
       "deck                                                                   \n",
       "A                 82.0   NaN   NaN   40.0   NaN   NaN   0.0   NaN   NaN\n",
       "B                262.0   NaN   NaN   96.0   NaN   NaN   0.0   NaN   NaN\n",
       "C                263.0   NaN   NaN  100.0   NaN   NaN  27.0   NaN   NaN\n",
       "D                113.0  14.0   NaN   63.0  13.0   NaN  26.0  13.0   NaN\n",
       "E                134.0  13.0  12.0   56.0  12.0  11.0  26.0  10.0   8.0\n",
       "F                  NaN  39.0  22.0    NaN  24.0  11.0   NaN  10.0   8.0\n",
       "G                  NaN   NaN  17.0    NaN   NaN  14.0   NaN   NaN  10.0"
      ]
     },
     "execution_count": 32,
     "metadata": {},
     "output_type": "execute_result"
    }
   ],
   "source": [
    "pivot_results"
   ]
  },
  {
   "cell_type": "markdown",
   "id": "e0e8d6a7",
   "metadata": {},
   "source": [
    "----\n",
    "As first class pay pretty huge fairs we are not going to consider minimum fares for them"
   ]
  },
  {
   "cell_type": "markdown",
   "id": "5ce85921",
   "metadata": {},
   "source": [
    "    if fare is between(82  and 40)--> A for pclass 1\n",
    "    if fare is between(262 and 96)--> B for pclass 1\n",
    "    if fare is between(263 and 100)-> C for pclass 1\n",
    "    if fare is between(113 and 26)--> D for pclass 1\n",
    "    if fare is between(134 and 26)--> E for pclass 1\n",
    "    if fare is between(14  and 13)--> D for pclass 2\n",
    "    if fare is between(13  and 10)--> E for pclass 2\n",
    "    if fare is between(39  and 10)--> F for pclass 2\n",
    "    if fare is between(12  and 8)---> E for pclass 3\n",
    "    if fare is between(22  and 8)---> F for pclass 3\n",
    "    if fare is between(17  and 10)--> G for pclass 3"
   ]
  },
  {
   "cell_type": "code",
   "execution_count": 33,
   "id": "a4283ee9",
   "metadata": {},
   "outputs": [],
   "source": [
    "data.loc[(data[\"passenger_class\"] == 1) & ((data[\"fare\"] >= 40) | (data[\"fare\"] <= 82)),\"fare_range\"]= \"A\""
   ]
  },
  {
   "cell_type": "code",
   "execution_count": 34,
   "id": "0b3f0826",
   "metadata": {},
   "outputs": [],
   "source": [
    "data.loc[(data[\"passenger_class\"] == 1) & ((data[\"fare\"] >= 96) | (data[\"fare\"] <= 262)),\"fare_range\"]= \"B\""
   ]
  },
  {
   "cell_type": "code",
   "execution_count": 35,
   "id": "e2787d19",
   "metadata": {},
   "outputs": [],
   "source": [
    "data.loc[(data[\"passenger_class\"] == 1) & (data[\"fare\"] >= 263) ,\"fare_range\"]= \"C\""
   ]
  },
  {
   "cell_type": "code",
   "execution_count": 36,
   "id": "c6ffbe4d",
   "metadata": {},
   "outputs": [],
   "source": [
    "data.loc[(data['passenger_class'] == 1) & (data['fare'] < 40), 'fare_range'] = 'D'"
   ]
  },
  {
   "cell_type": "code",
   "execution_count": 37,
   "id": "f3401541",
   "metadata": {},
   "outputs": [],
   "source": [
    "data.loc[(data[\"passenger_class\"] == 2) & ((data[\"fare\"] > 13)),\"fare_range\"] = \"F\""
   ]
  },
  {
   "cell_type": "code",
   "execution_count": 38,
   "id": "6e52fb07",
   "metadata": {},
   "outputs": [],
   "source": [
    "data.loc[(data[\"passenger_class\"] == 2) & ((data[\"fare\"] >= 13) & (data[\"fare\"] <= 14)),\"fare_range\"] = \"D\""
   ]
  },
  {
   "cell_type": "code",
   "execution_count": 39,
   "id": "36d6b88b",
   "metadata": {},
   "outputs": [],
   "source": [
    "data.loc[(data[\"passenger_class\"] == 2) & (data[\"fare\"] <13),\"fare_range\"] = \"E\""
   ]
  },
  {
   "cell_type": "code",
   "execution_count": 40,
   "id": "4b280e30",
   "metadata": {},
   "outputs": [],
   "source": [
    "data.loc[(data[\"passenger_class\"] == 3) & (data[\"fare\"] >=22),\"fare_range\"] = \"E\""
   ]
  },
  {
   "cell_type": "code",
   "execution_count": 41,
   "id": "caa42f8a",
   "metadata": {},
   "outputs": [],
   "source": [
    "data.loc[(data[\"passenger_class\"] == 3) & ((data[\"fare\"] >=8) & data[\"fare\"] <= 12),\"fare_range\"] = \"F\""
   ]
  },
  {
   "cell_type": "code",
   "execution_count": 42,
   "id": "c1bea718",
   "metadata": {},
   "outputs": [],
   "source": [
    "data.loc[(data[\"passenger_class\"] == 3) & (data[\"fare\"] < 8 ),\"fare_range\"] = \"G\""
   ]
  },
  {
   "cell_type": "code",
   "execution_count": 43,
   "id": "77e779cd",
   "metadata": {
    "scrolled": true
   },
   "outputs": [
    {
     "name": "stdout",
     "output_type": "stream",
     "text": [
      "<class 'pandas.core.frame.DataFrame'>\n",
      "Index: 781 entries, 0 to 890\n",
      "Data columns (total 13 columns):\n",
      " #   Column           Non-Null Count  Dtype  \n",
      "---  ------           --------------  -----  \n",
      " 0   passenger_class  781 non-null    int64  \n",
      " 1   gender           781 non-null    object \n",
      " 2   age              675 non-null    float64\n",
      " 3   sibling/spouse   781 non-null    int64  \n",
      " 4   parent/children  781 non-null    int64  \n",
      " 5   fare             781 non-null    float64\n",
      " 6   individual_type  781 non-null    object \n",
      " 7   adult_male       781 non-null    object \n",
      " 8   deck             200 non-null    object \n",
      " 9   embark_town      779 non-null    object \n",
      " 10  survival_status  781 non-null    object \n",
      " 11  alone            781 non-null    object \n",
      " 12  fare_range       781 non-null    object \n",
      "dtypes: float64(2), int64(3), object(8)\n",
      "memory usage: 85.4+ KB\n"
     ]
    }
   ],
   "source": [
    "data.info()"
   ]
  },
  {
   "cell_type": "code",
   "execution_count": 45,
   "id": "6d50d37b",
   "metadata": {},
   "outputs": [
    {
     "name": "stderr",
     "output_type": "stream",
     "text": [
      "C:\\Users\\Imran\\anaconda3\\Lib\\site-packages\\seaborn\\axisgrid.py:118: UserWarning: The figure layout has changed to tight\n",
      "  self._figure.tight_layout(*args, **kwargs)\n"
     ]
    },
    {
     "data": {
      "image/png": "[encoded data removed]",
      "text/plain": [
       "<Figure size 1576.62x500 with 3 Axes>"
      ]
     },
     "metadata": {},
     "output_type": "display_data"
    }
   ],
   "source": [
    "sns.relplot(data,x = \"deck\",y = \"fare\",col=\"passenger_class\",hue = \"fare\");"
   ]
  },
  {
   "cell_type": "markdown",
   "id": "22a41601",
   "metadata": {},
   "source": [
    "-----------\n",
    "Only the values have increased for each deck but the overall trend is same."
   ]
  },
  {
   "cell_type": "markdown",
   "id": "6978ff7e",
   "metadata": {},
   "source": [
    "### Filling null values of deck with corresponding values of fare_range"
   ]
  },
  {
   "cell_type": "code",
   "execution_count": 46,
   "id": "456de157",
   "metadata": {},
   "outputs": [],
   "source": [
    "data[\"deck\"]=data[\"deck\"].fillna(data[\"fare_range\"])"
   ]
  },
  {
   "cell_type": "code",
   "execution_count": 47,
   "id": "88d4b494",
   "metadata": {},
   "outputs": [
    {
     "name": "stdout",
     "output_type": "stream",
     "text": [
      "<class 'pandas.core.frame.DataFrame'>\n",
      "Index: 781 entries, 0 to 890\n",
      "Data columns (total 13 columns):\n",
      " #   Column           Non-Null Count  Dtype  \n",
      "---  ------           --------------  -----  \n",
      " 0   passenger_class  781 non-null    int64  \n",
      " 1   gender           781 non-null    object \n",
      " 2   age              675 non-null    float64\n",
      " 3   sibling/spouse   781 non-null    int64  \n",
      " 4   parent/children  781 non-null    int64  \n",
      " 5   fare             781 non-null    float64\n",
      " 6   individual_type  781 non-null    object \n",
      " 7   adult_male       781 non-null    object \n",
      " 8   deck             781 non-null    object \n",
      " 9   embark_town      779 non-null    object \n",
      " 10  survival_status  781 non-null    object \n",
      " 11  alone            781 non-null    object \n",
      " 12  fare_range       781 non-null    object \n",
      "dtypes: float64(2), int64(3), object(8)\n",
      "memory usage: 85.4+ KB\n"
     ]
    }
   ],
   "source": [
    "data.info()"
   ]
  },
  {
   "cell_type": "markdown",
   "id": "fa66daaa",
   "metadata": {},
   "source": [
    "### Dropping fare_range"
   ]
  },
  {
   "cell_type": "code",
   "execution_count": 48,
   "id": "84d62a9f",
   "metadata": {},
   "outputs": [],
   "source": [
    "data.drop(\"fare_range\",axis =1,inplace = True)"
   ]
  },
  {
   "cell_type": "code",
   "execution_count": 49,
   "id": "a2301212",
   "metadata": {},
   "outputs": [
    {
     "data": {
      "text/html": [
       "<div>\n",
       "<style scoped>\n",
       "    .dataframe tbody tr th:only-of-type {\n",
       "        vertical-align: middle;\n",
       "    }\n",
       "\n",
       "    .dataframe tbody tr th {\n",
       "        vertical-align: top;\n",
       "    }\n",
       "\n",
       "    .dataframe thead th {\n",
       "        text-align: right;\n",
       "    }\n",
       "</style>\n",
       "<table border=\"1\" class=\"dataframe\">\n",
       "  <thead>\n",
       "    <tr style=\"text-align: right;\">\n",
       "      <th></th>\n",
       "      <th>passenger_class</th>\n",
       "      <th>gender</th>\n",
       "      <th>age</th>\n",
       "      <th>sibling/spouse</th>\n",
       "      <th>parent/children</th>\n",
       "      <th>fare</th>\n",
       "      <th>individual_type</th>\n",
       "      <th>adult_male</th>\n",
       "      <th>deck</th>\n",
       "      <th>embark_town</th>\n",
       "      <th>survival_status</th>\n",
       "      <th>alone</th>\n",
       "    </tr>\n",
       "  </thead>\n",
       "  <tbody>\n",
       "    <tr>\n",
       "      <th>0</th>\n",
       "      <td>3</td>\n",
       "      <td>male</td>\n",
       "      <td>22.0</td>\n",
       "      <td>1</td>\n",
       "      <td>0</td>\n",
       "      <td>7.2500</td>\n",
       "      <td>man</td>\n",
       "      <td>yes</td>\n",
       "      <td>G</td>\n",
       "      <td>Southampton</td>\n",
       "      <td>no</td>\n",
       "      <td>no</td>\n",
       "    </tr>\n",
       "    <tr>\n",
       "      <th>1</th>\n",
       "      <td>1</td>\n",
       "      <td>female</td>\n",
       "      <td>38.0</td>\n",
       "      <td>1</td>\n",
       "      <td>0</td>\n",
       "      <td>71.2833</td>\n",
       "      <td>woman</td>\n",
       "      <td>no</td>\n",
       "      <td>C</td>\n",
       "      <td>Cherbourg</td>\n",
       "      <td>yes</td>\n",
       "      <td>no</td>\n",
       "    </tr>\n",
       "    <tr>\n",
       "      <th>2</th>\n",
       "      <td>3</td>\n",
       "      <td>female</td>\n",
       "      <td>26.0</td>\n",
       "      <td>0</td>\n",
       "      <td>0</td>\n",
       "      <td>7.9250</td>\n",
       "      <td>woman</td>\n",
       "      <td>no</td>\n",
       "      <td>G</td>\n",
       "      <td>Southampton</td>\n",
       "      <td>yes</td>\n",
       "      <td>yes</td>\n",
       "    </tr>\n",
       "    <tr>\n",
       "      <th>3</th>\n",
       "      <td>1</td>\n",
       "      <td>female</td>\n",
       "      <td>35.0</td>\n",
       "      <td>1</td>\n",
       "      <td>0</td>\n",
       "      <td>53.1000</td>\n",
       "      <td>woman</td>\n",
       "      <td>no</td>\n",
       "      <td>C</td>\n",
       "      <td>Southampton</td>\n",
       "      <td>yes</td>\n",
       "      <td>no</td>\n",
       "    </tr>\n",
       "    <tr>\n",
       "      <th>4</th>\n",
       "      <td>3</td>\n",
       "      <td>male</td>\n",
       "      <td>35.0</td>\n",
       "      <td>0</td>\n",
       "      <td>0</td>\n",
       "      <td>8.0500</td>\n",
       "      <td>man</td>\n",
       "      <td>yes</td>\n",
       "      <td>F</td>\n",
       "      <td>Southampton</td>\n",
       "      <td>no</td>\n",
       "      <td>yes</td>\n",
       "    </tr>\n",
       "  </tbody>\n",
       "</table>\n",
       "</div>"
      ],
      "text/plain": [
       "   passenger_class  gender   age  sibling/spouse  parent/children     fare  \\\n",
       "0                3    male  22.0               1                0   7.2500   \n",
       "1                1  female  38.0               1                0  71.2833   \n",
       "2                3  female  26.0               0                0   7.9250   \n",
       "3                1  female  35.0               1                0  53.1000   \n",
       "4                3    male  35.0               0                0   8.0500   \n",
       "\n",
       "  individual_type adult_male deck  embark_town survival_status alone  \n",
       "0             man        yes    G  Southampton              no    no  \n",
       "1           woman         no    C    Cherbourg             yes    no  \n",
       "2           woman         no    G  Southampton             yes   yes  \n",
       "3           woman         no    C  Southampton             yes    no  \n",
       "4             man        yes    F  Southampton              no   yes  "
      ]
     },
     "execution_count": 49,
     "metadata": {},
     "output_type": "execute_result"
    }
   ],
   "source": [
    "data.head()"
   ]
  },
  {
   "cell_type": "markdown",
   "id": "120cf5a1",
   "metadata": {},
   "source": [
    "## 2-Age\n"
   ]
  },
  {
   "cell_type": "markdown",
   "id": "d94792a9",
   "metadata": {},
   "source": [
    "### Using adult_male column to find null ages"
   ]
  },
  {
   "cell_type": "code",
   "execution_count": 50,
   "id": "eef99b92",
   "metadata": {},
   "outputs": [
    {
     "data": {
      "text/plain": [
       "adult_male\n",
       "yes    364\n",
       "Name: count, dtype: int64"
      ]
     },
     "execution_count": 50,
     "metadata": {},
     "output_type": "execute_result"
    }
   ],
   "source": [
    "data[\"adult_male\"][(data[\"age\"] >= 18) & (data[\"gender\"] == \"male\")].value_counts() #CHECKING THE AUTHENTICITY OF COLUMN"
   ]
  },
  {
   "cell_type": "code",
   "execution_count": 51,
   "id": "389d21dc",
   "metadata": {
    "scrolled": true
   },
   "outputs": [
    {
     "data": {
      "text/plain": [
       "34"
      ]
     },
     "execution_count": 51,
     "metadata": {},
     "output_type": "execute_result"
    }
   ],
   "source": [
    "round(np.mean(data[\"age\"][(data[\"age\"] >= 18) & (data[\"gender\"] == \"male\")]))"
   ]
  },
  {
   "cell_type": "code",
   "execution_count": 52,
   "id": "6b841fb0",
   "metadata": {},
   "outputs": [
    {
     "data": {
      "text/plain": [
       "9"
      ]
     },
     "execution_count": 52,
     "metadata": {},
     "output_type": "execute_result"
    }
   ],
   "source": [
    "round(np.mean(data[\"age\"][(data[\"age\"] < 18) & (data[\"gender\"] == \"male\")]))"
   ]
  },
  {
   "cell_type": "code",
   "execution_count": 53,
   "id": "cad50e4b",
   "metadata": {
    "scrolled": true
   },
   "outputs": [
    {
     "data": {
      "text/plain": [
       "9"
      ]
     },
     "execution_count": 53,
     "metadata": {},
     "output_type": "execute_result"
    }
   ],
   "source": [
    "round(np.mean(data[\"age\"][(data[\"age\"] < 18) & (data[\"gender\"] == \"female\")]))"
   ]
  },
  {
   "cell_type": "code",
   "execution_count": 54,
   "id": "133100cf",
   "metadata": {},
   "outputs": [
    {
     "data": {
      "text/plain": [
       "33"
      ]
     },
     "execution_count": 54,
     "metadata": {},
     "output_type": "execute_result"
    }
   ],
   "source": [
    "round(np.mean(data[\"age\"][(data[\"age\"] >= 18) & (data[\"gender\"] == \"female\")]))"
   ]
  },
  {
   "cell_type": "code",
   "execution_count": 55,
   "id": "a5e3435d",
   "metadata": {},
   "outputs": [],
   "source": [
    "data.loc[(data[\"adult_male\"] == \"yes\"),\"adult_range\"] = 34"
   ]
  },
  {
   "cell_type": "code",
   "execution_count": 56,
   "id": "73346903",
   "metadata": {},
   "outputs": [],
   "source": [
    "data.loc[data[\"adult_male\"] == \"no\",\"adult_range\"] = 9"
   ]
  },
  {
   "cell_type": "code",
   "execution_count": 57,
   "id": "85671fb8",
   "metadata": {},
   "outputs": [],
   "source": [
    "data.loc[(data[\"adult_male\"] == \"no\") & (data[\"age\"] >=18),\"adult_range\"] = 33"
   ]
  },
  {
   "cell_type": "code",
   "execution_count": 58,
   "id": "7f2090cd",
   "metadata": {},
   "outputs": [
    {
     "data": {
      "text/plain": [
       "adult_range\n",
       "34.0    449\n",
       "33.0    201\n",
       "9.0     131\n",
       "Name: count, dtype: int64"
      ]
     },
     "execution_count": 58,
     "metadata": {},
     "output_type": "execute_result"
    }
   ],
   "source": [
    "data[\"adult_range\"].value_counts()"
   ]
  },
  {
   "cell_type": "code",
   "execution_count": 59,
   "id": "75a8a215",
   "metadata": {},
   "outputs": [],
   "source": [
    "data[\"age\"]=data[\"age\"].fillna(data[\"adult_range\"])"
   ]
  },
  {
   "cell_type": "markdown",
   "id": "5b0cfa3c",
   "metadata": {},
   "source": [
    "### Dropping adult_range"
   ]
  },
  {
   "cell_type": "code",
   "execution_count": 60,
   "id": "32b2c5c9",
   "metadata": {},
   "outputs": [],
   "source": [
    "data.drop(\"adult_range\",axis =1,inplace = True)"
   ]
  },
  {
   "cell_type": "code",
   "execution_count": 61,
   "id": "d0ff6177",
   "metadata": {},
   "outputs": [
    {
     "data": {
      "text/html": [
       "<div>\n",
       "<style scoped>\n",
       "    .dataframe tbody tr th:only-of-type {\n",
       "        vertical-align: middle;\n",
       "    }\n",
       "\n",
       "    .dataframe tbody tr th {\n",
       "        vertical-align: top;\n",
       "    }\n",
       "\n",
       "    .dataframe thead th {\n",
       "        text-align: right;\n",
       "    }\n",
       "</style>\n",
       "<table border=\"1\" class=\"dataframe\">\n",
       "  <thead>\n",
       "    <tr style=\"text-align: right;\">\n",
       "      <th></th>\n",
       "      <th>passenger_class</th>\n",
       "      <th>gender</th>\n",
       "      <th>age</th>\n",
       "      <th>sibling/spouse</th>\n",
       "      <th>parent/children</th>\n",
       "      <th>fare</th>\n",
       "      <th>individual_type</th>\n",
       "      <th>adult_male</th>\n",
       "      <th>deck</th>\n",
       "      <th>embark_town</th>\n",
       "      <th>survival_status</th>\n",
       "      <th>alone</th>\n",
       "    </tr>\n",
       "  </thead>\n",
       "  <tbody>\n",
       "    <tr>\n",
       "      <th>0</th>\n",
       "      <td>3</td>\n",
       "      <td>male</td>\n",
       "      <td>22.0</td>\n",
       "      <td>1</td>\n",
       "      <td>0</td>\n",
       "      <td>7.2500</td>\n",
       "      <td>man</td>\n",
       "      <td>yes</td>\n",
       "      <td>G</td>\n",
       "      <td>Southampton</td>\n",
       "      <td>no</td>\n",
       "      <td>no</td>\n",
       "    </tr>\n",
       "    <tr>\n",
       "      <th>1</th>\n",
       "      <td>1</td>\n",
       "      <td>female</td>\n",
       "      <td>38.0</td>\n",
       "      <td>1</td>\n",
       "      <td>0</td>\n",
       "      <td>71.2833</td>\n",
       "      <td>woman</td>\n",
       "      <td>no</td>\n",
       "      <td>C</td>\n",
       "      <td>Cherbourg</td>\n",
       "      <td>yes</td>\n",
       "      <td>no</td>\n",
       "    </tr>\n",
       "    <tr>\n",
       "      <th>2</th>\n",
       "      <td>3</td>\n",
       "      <td>female</td>\n",
       "      <td>26.0</td>\n",
       "      <td>0</td>\n",
       "      <td>0</td>\n",
       "      <td>7.9250</td>\n",
       "      <td>woman</td>\n",
       "      <td>no</td>\n",
       "      <td>G</td>\n",
       "      <td>Southampton</td>\n",
       "      <td>yes</td>\n",
       "      <td>yes</td>\n",
       "    </tr>\n",
       "    <tr>\n",
       "      <th>3</th>\n",
       "      <td>1</td>\n",
       "      <td>female</td>\n",
       "      <td>35.0</td>\n",
       "      <td>1</td>\n",
       "      <td>0</td>\n",
       "      <td>53.1000</td>\n",
       "      <td>woman</td>\n",
       "      <td>no</td>\n",
       "      <td>C</td>\n",
       "      <td>Southampton</td>\n",
       "      <td>yes</td>\n",
       "      <td>no</td>\n",
       "    </tr>\n",
       "    <tr>\n",
       "      <th>4</th>\n",
       "      <td>3</td>\n",
       "      <td>male</td>\n",
       "      <td>35.0</td>\n",
       "      <td>0</td>\n",
       "      <td>0</td>\n",
       "      <td>8.0500</td>\n",
       "      <td>man</td>\n",
       "      <td>yes</td>\n",
       "      <td>F</td>\n",
       "      <td>Southampton</td>\n",
       "      <td>no</td>\n",
       "      <td>yes</td>\n",
       "    </tr>\n",
       "  </tbody>\n",
       "</table>\n",
       "</div>"
      ],
      "text/plain": [
       "   passenger_class  gender   age  sibling/spouse  parent/children     fare  \\\n",
       "0                3    male  22.0               1                0   7.2500   \n",
       "1                1  female  38.0               1                0  71.2833   \n",
       "2                3  female  26.0               0                0   7.9250   \n",
       "3                1  female  35.0               1                0  53.1000   \n",
       "4                3    male  35.0               0                0   8.0500   \n",
       "\n",
       "  individual_type adult_male deck  embark_town survival_status alone  \n",
       "0             man        yes    G  Southampton              no    no  \n",
       "1           woman         no    C    Cherbourg             yes    no  \n",
       "2           woman         no    G  Southampton             yes   yes  \n",
       "3           woman         no    C  Southampton             yes    no  \n",
       "4             man        yes    F  Southampton              no   yes  "
      ]
     },
     "execution_count": 61,
     "metadata": {},
     "output_type": "execute_result"
    }
   ],
   "source": [
    "data.head()"
   ]
  },
  {
   "cell_type": "markdown",
   "id": "1662ee23",
   "metadata": {},
   "source": [
    "## 3-Embarked_town"
   ]
  },
  {
   "cell_type": "code",
   "execution_count": 62,
   "id": "d1aa3272",
   "metadata": {},
   "outputs": [
    {
     "data": {
      "text/html": [
       "<div>\n",
       "<style scoped>\n",
       "    .dataframe tbody tr th:only-of-type {\n",
       "        vertical-align: middle;\n",
       "    }\n",
       "\n",
       "    .dataframe tbody tr th {\n",
       "        vertical-align: top;\n",
       "    }\n",
       "\n",
       "    .dataframe thead th {\n",
       "        text-align: right;\n",
       "    }\n",
       "</style>\n",
       "<table border=\"1\" class=\"dataframe\">\n",
       "  <thead>\n",
       "    <tr style=\"text-align: right;\">\n",
       "      <th></th>\n",
       "      <th>passenger_class</th>\n",
       "      <th>gender</th>\n",
       "      <th>age</th>\n",
       "      <th>sibling/spouse</th>\n",
       "      <th>parent/children</th>\n",
       "      <th>fare</th>\n",
       "      <th>individual_type</th>\n",
       "      <th>adult_male</th>\n",
       "      <th>deck</th>\n",
       "      <th>embark_town</th>\n",
       "      <th>survival_status</th>\n",
       "      <th>alone</th>\n",
       "    </tr>\n",
       "  </thead>\n",
       "  <tbody>\n",
       "    <tr>\n",
       "      <th>61</th>\n",
       "      <td>1</td>\n",
       "      <td>female</td>\n",
       "      <td>38.0</td>\n",
       "      <td>0</td>\n",
       "      <td>0</td>\n",
       "      <td>80.0</td>\n",
       "      <td>woman</td>\n",
       "      <td>no</td>\n",
       "      <td>B</td>\n",
       "      <td>NaN</td>\n",
       "      <td>yes</td>\n",
       "      <td>yes</td>\n",
       "    </tr>\n",
       "    <tr>\n",
       "      <th>829</th>\n",
       "      <td>1</td>\n",
       "      <td>female</td>\n",
       "      <td>62.0</td>\n",
       "      <td>0</td>\n",
       "      <td>0</td>\n",
       "      <td>80.0</td>\n",
       "      <td>woman</td>\n",
       "      <td>no</td>\n",
       "      <td>B</td>\n",
       "      <td>NaN</td>\n",
       "      <td>yes</td>\n",
       "      <td>yes</td>\n",
       "    </tr>\n",
       "  </tbody>\n",
       "</table>\n",
       "</div>"
      ],
      "text/plain": [
       "     passenger_class  gender   age  sibling/spouse  parent/children  fare  \\\n",
       "61                 1  female  38.0               0                0  80.0   \n",
       "829                1  female  62.0               0                0  80.0   \n",
       "\n",
       "    individual_type adult_male deck embark_town survival_status alone  \n",
       "61            woman         no    B         NaN             yes   yes  \n",
       "829           woman         no    B         NaN             yes   yes  "
      ]
     },
     "execution_count": 62,
     "metadata": {},
     "output_type": "execute_result"
    }
   ],
   "source": [
    "data[data[\"embark_town\"].isnull()]"
   ]
  },
  {
   "cell_type": "code",
   "execution_count": 63,
   "id": "b6ecb6c5",
   "metadata": {},
   "outputs": [
    {
     "data": {
      "text/html": [
       "<div>\n",
       "<style scoped>\n",
       "    .dataframe tbody tr th:only-of-type {\n",
       "        vertical-align: middle;\n",
       "    }\n",
       "\n",
       "    .dataframe tbody tr th {\n",
       "        vertical-align: top;\n",
       "    }\n",
       "\n",
       "    .dataframe thead th {\n",
       "        text-align: right;\n",
       "    }\n",
       "</style>\n",
       "<table border=\"1\" class=\"dataframe\">\n",
       "  <thead>\n",
       "    <tr style=\"text-align: right;\">\n",
       "      <th></th>\n",
       "      <th>passenger_class</th>\n",
       "      <th>gender</th>\n",
       "      <th>age</th>\n",
       "      <th>sibling/spouse</th>\n",
       "      <th>parent/children</th>\n",
       "      <th>fare</th>\n",
       "      <th>individual_type</th>\n",
       "      <th>adult_male</th>\n",
       "      <th>deck</th>\n",
       "      <th>embark_town</th>\n",
       "      <th>survival_status</th>\n",
       "      <th>alone</th>\n",
       "    </tr>\n",
       "  </thead>\n",
       "  <tbody>\n",
       "    <tr>\n",
       "      <th>61</th>\n",
       "      <td>1</td>\n",
       "      <td>female</td>\n",
       "      <td>38.0</td>\n",
       "      <td>0</td>\n",
       "      <td>0</td>\n",
       "      <td>80.0000</td>\n",
       "      <td>woman</td>\n",
       "      <td>no</td>\n",
       "      <td>B</td>\n",
       "      <td>NaN</td>\n",
       "      <td>yes</td>\n",
       "      <td>yes</td>\n",
       "    </tr>\n",
       "    <tr>\n",
       "      <th>194</th>\n",
       "      <td>1</td>\n",
       "      <td>female</td>\n",
       "      <td>44.0</td>\n",
       "      <td>0</td>\n",
       "      <td>0</td>\n",
       "      <td>27.7208</td>\n",
       "      <td>woman</td>\n",
       "      <td>no</td>\n",
       "      <td>B</td>\n",
       "      <td>Cherbourg</td>\n",
       "      <td>yes</td>\n",
       "      <td>yes</td>\n",
       "    </tr>\n",
       "    <tr>\n",
       "      <th>195</th>\n",
       "      <td>1</td>\n",
       "      <td>female</td>\n",
       "      <td>58.0</td>\n",
       "      <td>0</td>\n",
       "      <td>0</td>\n",
       "      <td>146.5208</td>\n",
       "      <td>woman</td>\n",
       "      <td>no</td>\n",
       "      <td>B</td>\n",
       "      <td>Cherbourg</td>\n",
       "      <td>yes</td>\n",
       "      <td>yes</td>\n",
       "    </tr>\n",
       "    <tr>\n",
       "      <th>256</th>\n",
       "      <td>1</td>\n",
       "      <td>female</td>\n",
       "      <td>9.0</td>\n",
       "      <td>0</td>\n",
       "      <td>0</td>\n",
       "      <td>79.2000</td>\n",
       "      <td>woman</td>\n",
       "      <td>no</td>\n",
       "      <td>B</td>\n",
       "      <td>Cherbourg</td>\n",
       "      <td>yes</td>\n",
       "      <td>yes</td>\n",
       "    </tr>\n",
       "    <tr>\n",
       "      <th>257</th>\n",
       "      <td>1</td>\n",
       "      <td>female</td>\n",
       "      <td>30.0</td>\n",
       "      <td>0</td>\n",
       "      <td>0</td>\n",
       "      <td>86.5000</td>\n",
       "      <td>woman</td>\n",
       "      <td>no</td>\n",
       "      <td>B</td>\n",
       "      <td>Southampton</td>\n",
       "      <td>yes</td>\n",
       "      <td>yes</td>\n",
       "    </tr>\n",
       "    <tr>\n",
       "      <th>290</th>\n",
       "      <td>1</td>\n",
       "      <td>female</td>\n",
       "      <td>26.0</td>\n",
       "      <td>0</td>\n",
       "      <td>0</td>\n",
       "      <td>78.8500</td>\n",
       "      <td>woman</td>\n",
       "      <td>no</td>\n",
       "      <td>B</td>\n",
       "      <td>Southampton</td>\n",
       "      <td>yes</td>\n",
       "      <td>yes</td>\n",
       "    </tr>\n",
       "    <tr>\n",
       "      <th>306</th>\n",
       "      <td>1</td>\n",
       "      <td>female</td>\n",
       "      <td>9.0</td>\n",
       "      <td>0</td>\n",
       "      <td>0</td>\n",
       "      <td>110.8833</td>\n",
       "      <td>woman</td>\n",
       "      <td>no</td>\n",
       "      <td>B</td>\n",
       "      <td>Cherbourg</td>\n",
       "      <td>yes</td>\n",
       "      <td>yes</td>\n",
       "    </tr>\n",
       "    <tr>\n",
       "      <th>369</th>\n",
       "      <td>1</td>\n",
       "      <td>female</td>\n",
       "      <td>24.0</td>\n",
       "      <td>0</td>\n",
       "      <td>0</td>\n",
       "      <td>69.3000</td>\n",
       "      <td>woman</td>\n",
       "      <td>no</td>\n",
       "      <td>B</td>\n",
       "      <td>Cherbourg</td>\n",
       "      <td>yes</td>\n",
       "      <td>yes</td>\n",
       "    </tr>\n",
       "    <tr>\n",
       "      <th>380</th>\n",
       "      <td>1</td>\n",
       "      <td>female</td>\n",
       "      <td>42.0</td>\n",
       "      <td>0</td>\n",
       "      <td>0</td>\n",
       "      <td>227.5250</td>\n",
       "      <td>woman</td>\n",
       "      <td>no</td>\n",
       "      <td>B</td>\n",
       "      <td>Cherbourg</td>\n",
       "      <td>yes</td>\n",
       "      <td>yes</td>\n",
       "    </tr>\n",
       "    <tr>\n",
       "      <th>504</th>\n",
       "      <td>1</td>\n",
       "      <td>female</td>\n",
       "      <td>16.0</td>\n",
       "      <td>0</td>\n",
       "      <td>0</td>\n",
       "      <td>86.5000</td>\n",
       "      <td>woman</td>\n",
       "      <td>no</td>\n",
       "      <td>B</td>\n",
       "      <td>Southampton</td>\n",
       "      <td>yes</td>\n",
       "      <td>yes</td>\n",
       "    </tr>\n",
       "    <tr>\n",
       "      <th>520</th>\n",
       "      <td>1</td>\n",
       "      <td>female</td>\n",
       "      <td>30.0</td>\n",
       "      <td>0</td>\n",
       "      <td>0</td>\n",
       "      <td>93.5000</td>\n",
       "      <td>woman</td>\n",
       "      <td>no</td>\n",
       "      <td>B</td>\n",
       "      <td>Southampton</td>\n",
       "      <td>yes</td>\n",
       "      <td>yes</td>\n",
       "    </tr>\n",
       "    <tr>\n",
       "      <th>537</th>\n",
       "      <td>1</td>\n",
       "      <td>female</td>\n",
       "      <td>30.0</td>\n",
       "      <td>0</td>\n",
       "      <td>0</td>\n",
       "      <td>106.4250</td>\n",
       "      <td>woman</td>\n",
       "      <td>no</td>\n",
       "      <td>B</td>\n",
       "      <td>Cherbourg</td>\n",
       "      <td>yes</td>\n",
       "      <td>yes</td>\n",
       "    </tr>\n",
       "    <tr>\n",
       "      <th>708</th>\n",
       "      <td>1</td>\n",
       "      <td>female</td>\n",
       "      <td>22.0</td>\n",
       "      <td>0</td>\n",
       "      <td>0</td>\n",
       "      <td>151.5500</td>\n",
       "      <td>woman</td>\n",
       "      <td>no</td>\n",
       "      <td>B</td>\n",
       "      <td>Southampton</td>\n",
       "      <td>yes</td>\n",
       "      <td>yes</td>\n",
       "    </tr>\n",
       "    <tr>\n",
       "      <th>730</th>\n",
       "      <td>1</td>\n",
       "      <td>female</td>\n",
       "      <td>29.0</td>\n",
       "      <td>0</td>\n",
       "      <td>0</td>\n",
       "      <td>211.3375</td>\n",
       "      <td>woman</td>\n",
       "      <td>no</td>\n",
       "      <td>B</td>\n",
       "      <td>Southampton</td>\n",
       "      <td>yes</td>\n",
       "      <td>yes</td>\n",
       "    </tr>\n",
       "    <tr>\n",
       "      <th>759</th>\n",
       "      <td>1</td>\n",
       "      <td>female</td>\n",
       "      <td>33.0</td>\n",
       "      <td>0</td>\n",
       "      <td>0</td>\n",
       "      <td>86.5000</td>\n",
       "      <td>woman</td>\n",
       "      <td>no</td>\n",
       "      <td>B</td>\n",
       "      <td>Southampton</td>\n",
       "      <td>yes</td>\n",
       "      <td>yes</td>\n",
       "    </tr>\n",
       "    <tr>\n",
       "      <th>829</th>\n",
       "      <td>1</td>\n",
       "      <td>female</td>\n",
       "      <td>62.0</td>\n",
       "      <td>0</td>\n",
       "      <td>0</td>\n",
       "      <td>80.0000</td>\n",
       "      <td>woman</td>\n",
       "      <td>no</td>\n",
       "      <td>B</td>\n",
       "      <td>NaN</td>\n",
       "      <td>yes</td>\n",
       "      <td>yes</td>\n",
       "    </tr>\n",
       "    <tr>\n",
       "      <th>887</th>\n",
       "      <td>1</td>\n",
       "      <td>female</td>\n",
       "      <td>19.0</td>\n",
       "      <td>0</td>\n",
       "      <td>0</td>\n",
       "      <td>30.0000</td>\n",
       "      <td>woman</td>\n",
       "      <td>no</td>\n",
       "      <td>B</td>\n",
       "      <td>Southampton</td>\n",
       "      <td>yes</td>\n",
       "      <td>yes</td>\n",
       "    </tr>\n",
       "  </tbody>\n",
       "</table>\n",
       "</div>"
      ],
      "text/plain": [
       "     passenger_class  gender   age  sibling/spouse  parent/children      fare  \\\n",
       "61                 1  female  38.0               0                0   80.0000   \n",
       "194                1  female  44.0               0                0   27.7208   \n",
       "195                1  female  58.0               0                0  146.5208   \n",
       "256                1  female   9.0               0                0   79.2000   \n",
       "257                1  female  30.0               0                0   86.5000   \n",
       "290                1  female  26.0               0                0   78.8500   \n",
       "306                1  female   9.0               0                0  110.8833   \n",
       "369                1  female  24.0               0                0   69.3000   \n",
       "380                1  female  42.0               0                0  227.5250   \n",
       "504                1  female  16.0               0                0   86.5000   \n",
       "520                1  female  30.0               0                0   93.5000   \n",
       "537                1  female  30.0               0                0  106.4250   \n",
       "708                1  female  22.0               0                0  151.5500   \n",
       "730                1  female  29.0               0                0  211.3375   \n",
       "759                1  female  33.0               0                0   86.5000   \n",
       "829                1  female  62.0               0                0   80.0000   \n",
       "887                1  female  19.0               0                0   30.0000   \n",
       "\n",
       "    individual_type adult_male deck  embark_town survival_status alone  \n",
       "61            woman         no    B          NaN             yes   yes  \n",
       "194           woman         no    B    Cherbourg             yes   yes  \n",
       "195           woman         no    B    Cherbourg             yes   yes  \n",
       "256           woman         no    B    Cherbourg             yes   yes  \n",
       "257           woman         no    B  Southampton             yes   yes  \n",
       "290           woman         no    B  Southampton             yes   yes  \n",
       "306           woman         no    B    Cherbourg             yes   yes  \n",
       "369           woman         no    B    Cherbourg             yes   yes  \n",
       "380           woman         no    B    Cherbourg             yes   yes  \n",
       "504           woman         no    B  Southampton             yes   yes  \n",
       "520           woman         no    B  Southampton             yes   yes  \n",
       "537           woman         no    B    Cherbourg             yes   yes  \n",
       "708           woman         no    B  Southampton             yes   yes  \n",
       "730           woman         no    B  Southampton             yes   yes  \n",
       "759           woman         no    B  Southampton             yes   yes  \n",
       "829           woman         no    B          NaN             yes   yes  \n",
       "887           woman         no    B  Southampton             yes   yes  "
      ]
     },
     "execution_count": 63,
     "metadata": {},
     "output_type": "execute_result"
    }
   ],
   "source": [
    "embark_null = data[(data[\"passenger_class\"]==1) & (data[\"gender\"] == \"female\") & (data[\"sibling/spouse\"] == 0) & (data[\"deck\"] == \"B\") & (data[\"survival_status\"] == \"yes\") & (data[\"alone\"] == \"yes\")]\n",
    "embark_null"
   ]
  },
  {
   "cell_type": "code",
   "execution_count": 64,
   "id": "3766abbc",
   "metadata": {},
   "outputs": [
    {
     "data": {
      "text/plain": [
       "embark_town\n",
       "Southampton    8\n",
       "Cherbourg      7\n",
       "Name: count, dtype: int64"
      ]
     },
     "execution_count": 64,
     "metadata": {},
     "output_type": "execute_result"
    }
   ],
   "source": [
    "embark_null[\"embark_town\"].value_counts()"
   ]
  },
  {
   "cell_type": "code",
   "execution_count": 67,
   "id": "d0dd945e",
   "metadata": {},
   "outputs": [],
   "source": [
    "data.embark_town.fillna(\"Southampton\",inplace = True)"
   ]
  },
  {
   "cell_type": "code",
   "execution_count": 68,
   "id": "3c2b1351",
   "metadata": {},
   "outputs": [
    {
     "name": "stdout",
     "output_type": "stream",
     "text": [
      "<class 'pandas.core.frame.DataFrame'>\n",
      "Index: 781 entries, 0 to 890\n",
      "Data columns (total 12 columns):\n",
      " #   Column           Non-Null Count  Dtype  \n",
      "---  ------           --------------  -----  \n",
      " 0   passenger_class  781 non-null    int64  \n",
      " 1   gender           781 non-null    object \n",
      " 2   age              781 non-null    float64\n",
      " 3   sibling/spouse   781 non-null    int64  \n",
      " 4   parent/children  781 non-null    int64  \n",
      " 5   fare             781 non-null    float64\n",
      " 6   individual_type  781 non-null    object \n",
      " 7   adult_male       781 non-null    object \n",
      " 8   deck             781 non-null    object \n",
      " 9   embark_town      781 non-null    object \n",
      " 10  survival_status  781 non-null    object \n",
      " 11  alone            781 non-null    object \n",
      "dtypes: float64(2), int64(3), object(7)\n",
      "memory usage: 79.3+ KB\n"
     ]
    }
   ],
   "source": [
    "data.info()"
   ]
  },
  {
   "cell_type": "markdown",
   "id": "6326a9d3",
   "metadata": {},
   "source": [
    "# Analysis"
   ]
  },
  {
   "cell_type": "markdown",
   "id": "b56a17f6",
   "metadata": {},
   "source": [
    "## 1- Analyzing Survival status"
   ]
  },
  {
   "cell_type": "code",
   "execution_count": 69,
   "id": "01bd2b93",
   "metadata": {
    "scrolled": true
   },
   "outputs": [
    {
     "data": {
      "text/plain": [
       "<Axes: xlabel='survival_status', ylabel='count'>"
      ]
     },
     "execution_count": 69,
     "metadata": {},
     "output_type": "execute_result"
    },
    {
     "data": {
      "image/png": "[encoded data removed]",
      "text/plain": [
       "<Figure size 640x480 with 1 Axes>"
      ]
     },
     "metadata": {},
     "output_type": "display_data"
    }
   ],
   "source": [
    "sns.countplot(data,x = \"survival_status\")"
   ]
  },
  {
   "cell_type": "code",
   "execution_count": 70,
   "id": "78bbf83c",
   "metadata": {},
   "outputs": [
    {
     "data": {
      "text/plain": [
       "survival_status\n",
       "no     59.026889\n",
       "yes    40.973111\n",
       "Name: proportion, dtype: float64"
      ]
     },
     "execution_count": 70,
     "metadata": {},
     "output_type": "execute_result"
    }
   ],
   "source": [
    "data[\"survival_status\"].value_counts(normalize = True)*100"
   ]
  },
  {
   "cell_type": "markdown",
   "id": "f82edae4",
   "metadata": {},
   "source": [
    "Around 59% people died, lets look deeper into categories"
   ]
  },
  {
   "cell_type": "markdown",
   "id": "ca43c6f7",
   "metadata": {},
   "source": [
    "## 2- Survival as per gender"
   ]
  },
  {
   "cell_type": "code",
   "execution_count": 71,
   "id": "b68a8ed2",
   "metadata": {},
   "outputs": [
    {
     "data": {
      "text/plain": [
       "<Axes: xlabel='survival_status', ylabel='count'>"
      ]
     },
     "execution_count": 71,
     "metadata": {},
     "output_type": "execute_result"
    },
    {
     "data": {
      "image/png": "[encoded data removed]",
      "text/plain": [
       "<Figure size 640x480 with 1 Axes>"
      ]
     },
     "metadata": {},
     "output_type": "display_data"
    }
   ],
   "source": [
    "sns.countplot(data,x = \"survival_status\", hue = \"gender\")"
   ]
  },
  {
   "cell_type": "code",
   "execution_count": 72,
   "id": "1956cae7",
   "metadata": {},
   "outputs": [
    {
     "data": {
      "text/plain": [
       "survival_status\n",
       "no     78.732106\n",
       "yes    21.267894\n",
       "Name: proportion, dtype: float64"
      ]
     },
     "execution_count": 72,
     "metadata": {},
     "output_type": "execute_result"
    }
   ],
   "source": [
    "data[\"survival_status\"][data[\"gender\"] == \"male\"].value_counts(normalize = True)*100"
   ]
  },
  {
   "cell_type": "markdown",
   "id": "e63dd2db",
   "metadata": {},
   "source": [
    "Out of all the people survived, only 21% were males "
   ]
  },
  {
   "cell_type": "code",
   "execution_count": 73,
   "id": "c2269d24",
   "metadata": {},
   "outputs": [
    {
     "data": {
      "text/plain": [
       "survival_status\n",
       "yes    73.972603\n",
       "no     26.027397\n",
       "Name: proportion, dtype: float64"
      ]
     },
     "execution_count": 73,
     "metadata": {},
     "output_type": "execute_result"
    }
   ],
   "source": [
    "data[\"survival_status\"][data[\"gender\"] == \"female\"].value_counts(normalize = True)*100"
   ]
  },
  {
   "cell_type": "markdown",
   "id": "a7f035e9",
   "metadata": {},
   "source": [
    "Out of all the people survived, 74% were females"
   ]
  },
  {
   "cell_type": "markdown",
   "id": "23e870c2",
   "metadata": {},
   "source": [
    "## 3- Survival as per Individual type"
   ]
  },
  {
   "cell_type": "code",
   "execution_count": 74,
   "id": "cf827098",
   "metadata": {},
   "outputs": [
    {
     "data": {
      "text/plain": [
       "<Axes: xlabel='survival_status', ylabel='count'>"
      ]
     },
     "execution_count": 74,
     "metadata": {},
     "output_type": "execute_result"
    },
    {
     "data": {
      "image/png": "[encoded data removed]",
      "text/plain": [
       "<Figure size 640x480 with 1 Axes>"
      ]
     },
     "metadata": {},
     "output_type": "display_data"
    }
   ],
   "source": [
    "sns.countplot(data,x = \"survival_status\", hue = \"individual_type\")"
   ]
  },
  {
   "cell_type": "code",
   "execution_count": 75,
   "id": "f96510fa",
   "metadata": {},
   "outputs": [
    {
     "data": {
      "text/plain": [
       "survival_status\n",
       "yes    76.0\n",
       "no     24.0\n",
       "Name: proportion, dtype: float64"
      ]
     },
     "execution_count": 75,
     "metadata": {},
     "output_type": "execute_result"
    }
   ],
   "source": [
    "round(data[\"survival_status\"][data[\"individual_type\"] == \"woman\"].value_counts(normalize = True)*100)"
   ]
  },
  {
   "cell_type": "code",
   "execution_count": 76,
   "id": "5378e63b",
   "metadata": {},
   "outputs": [
    {
     "data": {
      "text/plain": [
       "survival_status\n",
       "no     82.0\n",
       "yes    18.0\n",
       "Name: proportion, dtype: float64"
      ]
     },
     "execution_count": 76,
     "metadata": {},
     "output_type": "execute_result"
    }
   ],
   "source": [
    "round(data[\"survival_status\"][data[\"individual_type\"] == \"man\"].value_counts(normalize = True)*100)"
   ]
  },
  {
   "cell_type": "code",
   "execution_count": 77,
   "id": "9161344d",
   "metadata": {},
   "outputs": [
    {
     "data": {
      "text/plain": [
       "survival_status\n",
       "yes    59.0\n",
       "no     41.0\n",
       "Name: proportion, dtype: float64"
      ]
     },
     "execution_count": 77,
     "metadata": {},
     "output_type": "execute_result"
    }
   ],
   "source": [
    "round(data[\"survival_status\"][data[\"individual_type\"] == \"child\"].value_counts(normalize = True)*100)"
   ]
  },
  {
   "cell_type": "markdown",
   "id": "cbb41254",
   "metadata": {},
   "source": [
    "Out of all individual types females have a good survival ratio"
   ]
  },
  {
   "cell_type": "markdown",
   "id": "5bf3d207",
   "metadata": {},
   "source": [
    "## 4- Finding the safest deck"
   ]
  },
  {
   "cell_type": "code",
   "execution_count": 78,
   "id": "dbd98a83",
   "metadata": {},
   "outputs": [
    {
     "data": {
      "text/plain": [
       "<Axes: xlabel='survival_status', ylabel='count'>"
      ]
     },
     "execution_count": 78,
     "metadata": {},
     "output_type": "execute_result"
    },
    {
     "data": {
      "image/png": "[encoded data removed]",
      "text/plain": [
       "<Figure size 640x480 with 1 Axes>"
      ]
     },
     "metadata": {},
     "output_type": "display_data"
    }
   ],
   "source": [
    "sns.countplot(data,x = \"survival_status\", hue = \"deck\") "
   ]
  },
  {
   "cell_type": "code",
   "execution_count": 79,
   "id": "660f674e",
   "metadata": {},
   "outputs": [
    {
     "data": {
      "text/plain": [
       "survival_status\n",
       "no     53.0\n",
       "yes    47.0\n",
       "Name: proportion, dtype: float64"
      ]
     },
     "execution_count": 79,
     "metadata": {},
     "output_type": "execute_result"
    }
   ],
   "source": [
    "round(data[\"survival_status\"][data[\"deck\"] == \"A\"].value_counts(normalize = True)*100)"
   ]
  },
  {
   "cell_type": "code",
   "execution_count": 80,
   "id": "7be15f00",
   "metadata": {},
   "outputs": [
    {
     "data": {
      "text/plain": [
       "survival_status\n",
       "yes    69.0\n",
       "no     31.0\n",
       "Name: proportion, dtype: float64"
      ]
     },
     "execution_count": 80,
     "metadata": {},
     "output_type": "execute_result"
    }
   ],
   "source": [
    "round(data[\"survival_status\"][data[\"deck\"] == \"B\"].value_counts(normalize = True)*100)"
   ]
  },
  {
   "cell_type": "code",
   "execution_count": 81,
   "id": "ef70a0e3",
   "metadata": {},
   "outputs": [
    {
     "data": {
      "text/plain": [
       "survival_status\n",
       "yes    59.0\n",
       "no     41.0\n",
       "Name: proportion, dtype: float64"
      ]
     },
     "execution_count": 81,
     "metadata": {},
     "output_type": "execute_result"
    }
   ],
   "source": [
    "round(data[\"survival_status\"][data[\"deck\"] == \"C\"].value_counts(normalize = True)*100)"
   ]
  },
  {
   "cell_type": "code",
   "execution_count": 82,
   "id": "5522b029",
   "metadata": {},
   "outputs": [
    {
     "data": {
      "text/plain": [
       "survival_status\n",
       "yes    52.0\n",
       "no     48.0\n",
       "Name: proportion, dtype: float64"
      ]
     },
     "execution_count": 82,
     "metadata": {},
     "output_type": "execute_result"
    }
   ],
   "source": [
    "round(data[\"survival_status\"][data[\"deck\"] == \"D\"].value_counts(normalize = True)*100)"
   ]
  },
  {
   "cell_type": "code",
   "execution_count": 83,
   "id": "21c1c722",
   "metadata": {},
   "outputs": [
    {
     "data": {
      "text/plain": [
       "survival_status\n",
       "yes    52.0\n",
       "no     48.0\n",
       "Name: proportion, dtype: float64"
      ]
     },
     "execution_count": 83,
     "metadata": {},
     "output_type": "execute_result"
    }
   ],
   "source": [
    "round(data[\"survival_status\"][data[\"deck\"] == \"E\"].value_counts(normalize = True)*100)"
   ]
  },
  {
   "cell_type": "code",
   "execution_count": 84,
   "id": "2ec6aa6b",
   "metadata": {},
   "outputs": [
    {
     "data": {
      "text/plain": [
       "survival_status\n",
       "no     65.0\n",
       "yes    35.0\n",
       "Name: proportion, dtype: float64"
      ]
     },
     "execution_count": 84,
     "metadata": {},
     "output_type": "execute_result"
    }
   ],
   "source": [
    "round(data[\"survival_status\"][data[\"deck\"] == \"F\"].value_counts(normalize = True)*100)"
   ]
  },
  {
   "cell_type": "code",
   "execution_count": 85,
   "id": "0a6d3b9d",
   "metadata": {},
   "outputs": [
    {
     "data": {
      "text/plain": [
       "survival_status\n",
       "no     75.0\n",
       "yes    25.0\n",
       "Name: proportion, dtype: float64"
      ]
     },
     "execution_count": 85,
     "metadata": {},
     "output_type": "execute_result"
    }
   ],
   "source": [
    "round(data[\"survival_status\"][data[\"deck\"] == \"G\"].value_counts(normalize = True)*100)"
   ]
  },
  {
   "cell_type": "markdown",
   "id": "551ddccf",
   "metadata": {},
   "source": [
    "B is the safest deck and G is the most dangerous one"
   ]
  },
  {
   "cell_type": "markdown",
   "id": "5b2fb59e",
   "metadata": {},
   "source": [
    "## 5- Survival as per Passenger Class"
   ]
  },
  {
   "cell_type": "code",
   "execution_count": 86,
   "id": "075cc522",
   "metadata": {
    "scrolled": true
   },
   "outputs": [
    {
     "data": {
      "text/plain": [
       "<Axes: xlabel='survival_status', ylabel='count'>"
      ]
     },
     "execution_count": 86,
     "metadata": {},
     "output_type": "execute_result"
    },
    {
     "data": {
      "image/png": "[encoded data removed]",
      "text/plain": [
       "<Figure size 640x480 with 1 Axes>"
      ]
     },
     "metadata": {},
     "output_type": "display_data"
    }
   ],
   "source": [
    "sns.countplot(data,x = \"survival_status\", hue = \"passenger_class\")"
   ]
  },
  {
   "cell_type": "code",
   "execution_count": 87,
   "id": "f98f4c88",
   "metadata": {
    "scrolled": true
   },
   "outputs": [
    {
     "data": {
      "text/plain": [
       "passenger_class\n",
       "3    405\n",
       "1    211\n",
       "2    165\n",
       "Name: count, dtype: int64"
      ]
     },
     "execution_count": 87,
     "metadata": {},
     "output_type": "execute_result"
    }
   ],
   "source": [
    "data[\"passenger_class\"].value_counts()"
   ]
  },
  {
   "cell_type": "markdown",
   "id": "2e7b56a8",
   "metadata": {},
   "source": [
    "Majority of people on board are 3rd class"
   ]
  },
  {
   "cell_type": "code",
   "execution_count": 88,
   "id": "0b6f9934",
   "metadata": {},
   "outputs": [
    {
     "data": {
      "text/plain": [
       "survival_status\n",
       "yes    63.0\n",
       "no     37.0\n",
       "Name: proportion, dtype: float64"
      ]
     },
     "execution_count": 88,
     "metadata": {},
     "output_type": "execute_result"
    }
   ],
   "source": [
    "round(data[\"survival_status\"][data[\"passenger_class\"] == 1].value_counts(normalize = True)*100)"
   ]
  },
  {
   "cell_type": "code",
   "execution_count": 89,
   "id": "dd3fbec9",
   "metadata": {},
   "outputs": [
    {
     "data": {
      "text/plain": [
       "survival_status\n",
       "yes    51.0\n",
       "no     49.0\n",
       "Name: proportion, dtype: float64"
      ]
     },
     "execution_count": 89,
     "metadata": {},
     "output_type": "execute_result"
    }
   ],
   "source": [
    "round(data[\"survival_status\"][data[\"passenger_class\"] == 2].value_counts(normalize = True)*100)"
   ]
  },
  {
   "cell_type": "code",
   "execution_count": 90,
   "id": "09d9430c",
   "metadata": {
    "scrolled": true
   },
   "outputs": [
    {
     "data": {
      "text/plain": [
       "survival_status\n",
       "no     74.0\n",
       "yes    26.0\n",
       "Name: proportion, dtype: float64"
      ]
     },
     "execution_count": 90,
     "metadata": {},
     "output_type": "execute_result"
    }
   ],
   "source": [
    "round(data[\"survival_status\"][data[\"passenger_class\"] == 3].value_counts(normalize = True)*100)"
   ]
  },
  {
   "cell_type": "markdown",
   "id": "0e207f53",
   "metadata": {},
   "source": [
    "First class passengers survived the most."
   ]
  },
  {
   "cell_type": "markdown",
   "id": "5f217475",
   "metadata": {},
   "source": [
    "## 6- Survival status of people alone vs with family"
   ]
  },
  {
   "cell_type": "code",
   "execution_count": 91,
   "id": "1561e970",
   "metadata": {},
   "outputs": [
    {
     "data": {
      "text/plain": [
       "<Axes: xlabel='survival_status', ylabel='count'>"
      ]
     },
     "execution_count": 91,
     "metadata": {},
     "output_type": "execute_result"
    },
    {
     "data": {
      "image/png": "[encoded data removed]",
      "text/plain": [
       "<Figure size 640x480 with 1 Axes>"
      ]
     },
     "metadata": {},
     "output_type": "display_data"
    }
   ],
   "source": [
    "sns.countplot(data,x = \"survival_status\", hue = \"alone\")"
   ]
  },
  {
   "cell_type": "code",
   "execution_count": 92,
   "id": "d882d54d",
   "metadata": {},
   "outputs": [
    {
     "data": {
      "text/plain": [
       "survival_status\n",
       "no     67.0\n",
       "yes    33.0\n",
       "Name: proportion, dtype: float64"
      ]
     },
     "execution_count": 92,
     "metadata": {},
     "output_type": "execute_result"
    }
   ],
   "source": [
    "round(data[\"survival_status\"][data[\"alone\"] == \"yes\"].value_counts(normalize = True)*100)"
   ]
  },
  {
   "cell_type": "code",
   "execution_count": 93,
   "id": "e7e5224b",
   "metadata": {},
   "outputs": [
    {
     "data": {
      "text/plain": [
       "survival_status\n",
       "yes    51.0\n",
       "no     49.0\n",
       "Name: proportion, dtype: float64"
      ]
     },
     "execution_count": 93,
     "metadata": {},
     "output_type": "execute_result"
    }
   ],
   "source": [
    "round(data[\"survival_status\"][data[\"alone\"] == \"no\"].value_counts(normalize = True)*100)"
   ]
  },
  {
   "cell_type": "markdown",
   "id": "b1b469d4",
   "metadata": {},
   "source": [
    "People with family were more likely to survive"
   ]
  },
  {
   "cell_type": "markdown",
   "id": "d5af51cd",
   "metadata": {},
   "source": [
    "## 7- Survival Status as per Adults"
   ]
  },
  {
   "cell_type": "code",
   "execution_count": 94,
   "id": "77ffe0de",
   "metadata": {},
   "outputs": [],
   "source": [
    "adult = []\n",
    "for i in data.age:\n",
    "    if i < 18:\n",
    "        adult.append(\"no\")\n",
    "    else:\n",
    "        adult.append(\"yes\")"
   ]
  },
  {
   "cell_type": "code",
   "execution_count": 95,
   "id": "e8f93c7e",
   "metadata": {},
   "outputs": [],
   "source": [
    "data[\"adult\"] = adult"
   ]
  },
  {
   "cell_type": "code",
   "execution_count": 96,
   "id": "9f26a353",
   "metadata": {
    "scrolled": false
   },
   "outputs": [
    {
     "data": {
      "text/plain": [
       "<Axes: xlabel='survival_status', ylabel='count'>"
      ]
     },
     "execution_count": 96,
     "metadata": {},
     "output_type": "execute_result"
    },
    {
     "data": {
      "image/png": "[encoded data removed]",
      "text/plain": [
       "<Figure size 640x480 with 1 Axes>"
      ]
     },
     "metadata": {},
     "output_type": "display_data"
    }
   ],
   "source": [
    "sns.countplot(data,x = \"survival_status\", hue = \"adult\")"
   ]
  },
  {
   "cell_type": "markdown",
   "id": "120d423e",
   "metadata": {},
   "source": [
    "Kids have larger survival ratio"
   ]
  },
  {
   "cell_type": "code",
   "execution_count": 97,
   "id": "d0978477",
   "metadata": {},
   "outputs": [
    {
     "data": {
      "text/plain": [
       "<Axes: xlabel='survival_status', ylabel='count'>"
      ]
     },
     "execution_count": 97,
     "metadata": {},
     "output_type": "execute_result"
    },
    {
     "data": {
      "image/png": "[encoded data removed]",
      "text/plain": [
       "<Figure size 640x480 with 1 Axes>"
      ]
     },
     "metadata": {},
     "output_type": "display_data"
    }
   ],
   "source": [
    "sns.countplot(data,x = \"survival_status\", hue = \"adult_male\")"
   ]
  },
  {
   "cell_type": "code",
   "execution_count": 98,
   "id": "f55e353f",
   "metadata": {},
   "outputs": [
    {
     "data": {
      "text/plain": [
       "survival_status\n",
       "no     82.0\n",
       "yes    18.0\n",
       "Name: proportion, dtype: float64"
      ]
     },
     "execution_count": 98,
     "metadata": {},
     "output_type": "execute_result"
    }
   ],
   "source": [
    "round(data[\"survival_status\"][data[\"adult_male\"] == \"yes\"].value_counts(normalize = True)*100)"
   ]
  },
  {
   "cell_type": "markdown",
   "id": "11a75433",
   "metadata": {},
   "source": [
    "Only 18% adult males survived"
   ]
  },
  {
   "cell_type": "markdown",
   "id": "0eae754a",
   "metadata": {},
   "source": [
    "## 8- Category on the basis of fare"
   ]
  },
  {
   "cell_type": "code",
   "execution_count": 99,
   "id": "7916ff9c",
   "metadata": {},
   "outputs": [],
   "source": [
    "def detect_outliers(data):\n",
    "    threshold = 3\n",
    "    mean = np.mean(data)\n",
    "    std = np.std(data)\n",
    "    outlier = []\n",
    "    for i in data:\n",
    "        z_score = (i-mean)/std\n",
    "        if abs(z_score) > 3:\n",
    "            outlier.append(i)\n",
    "    return outlier  "
   ]
  },
  {
   "cell_type": "code",
   "execution_count": 100,
   "id": "3614737f",
   "metadata": {},
   "outputs": [],
   "source": [
    "large_fares = detect_outliers(data.fare)"
   ]
  },
  {
   "cell_type": "code",
   "execution_count": 101,
   "id": "c9d43b55",
   "metadata": {},
   "outputs": [
    {
     "data": {
      "text/html": [
       "<div>\n",
       "<style scoped>\n",
       "    .dataframe tbody tr th:only-of-type {\n",
       "        vertical-align: middle;\n",
       "    }\n",
       "\n",
       "    .dataframe tbody tr th {\n",
       "        vertical-align: top;\n",
       "    }\n",
       "\n",
       "    .dataframe thead th {\n",
       "        text-align: right;\n",
       "    }\n",
       "</style>\n",
       "<table border=\"1\" class=\"dataframe\">\n",
       "  <thead>\n",
       "    <tr style=\"text-align: right;\">\n",
       "      <th></th>\n",
       "      <th>passenger_class</th>\n",
       "      <th>deck</th>\n",
       "      <th>fare</th>\n",
       "    </tr>\n",
       "  </thead>\n",
       "  <tbody>\n",
       "    <tr>\n",
       "      <th>27</th>\n",
       "      <td>1</td>\n",
       "      <td>C</td>\n",
       "      <td>263.0000</td>\n",
       "    </tr>\n",
       "    <tr>\n",
       "      <th>88</th>\n",
       "      <td>1</td>\n",
       "      <td>C</td>\n",
       "      <td>263.0000</td>\n",
       "    </tr>\n",
       "    <tr>\n",
       "      <th>118</th>\n",
       "      <td>1</td>\n",
       "      <td>B</td>\n",
       "      <td>247.5208</td>\n",
       "    </tr>\n",
       "    <tr>\n",
       "      <th>299</th>\n",
       "      <td>1</td>\n",
       "      <td>B</td>\n",
       "      <td>247.5208</td>\n",
       "    </tr>\n",
       "    <tr>\n",
       "      <th>311</th>\n",
       "      <td>1</td>\n",
       "      <td>B</td>\n",
       "      <td>262.3750</td>\n",
       "    </tr>\n",
       "    <tr>\n",
       "      <th>318</th>\n",
       "      <td>1</td>\n",
       "      <td>C</td>\n",
       "      <td>164.8667</td>\n",
       "    </tr>\n",
       "    <tr>\n",
       "      <th>341</th>\n",
       "      <td>1</td>\n",
       "      <td>C</td>\n",
       "      <td>263.0000</td>\n",
       "    </tr>\n",
       "    <tr>\n",
       "      <th>377</th>\n",
       "      <td>1</td>\n",
       "      <td>C</td>\n",
       "      <td>211.5000</td>\n",
       "    </tr>\n",
       "    <tr>\n",
       "      <th>380</th>\n",
       "      <td>1</td>\n",
       "      <td>B</td>\n",
       "      <td>227.5250</td>\n",
       "    </tr>\n",
       "    <tr>\n",
       "      <th>438</th>\n",
       "      <td>1</td>\n",
       "      <td>C</td>\n",
       "      <td>263.0000</td>\n",
       "    </tr>\n",
       "    <tr>\n",
       "      <th>527</th>\n",
       "      <td>1</td>\n",
       "      <td>C</td>\n",
       "      <td>221.7792</td>\n",
       "    </tr>\n",
       "    <tr>\n",
       "      <th>557</th>\n",
       "      <td>1</td>\n",
       "      <td>B</td>\n",
       "      <td>227.5250</td>\n",
       "    </tr>\n",
       "    <tr>\n",
       "      <th>689</th>\n",
       "      <td>1</td>\n",
       "      <td>B</td>\n",
       "      <td>211.3375</td>\n",
       "    </tr>\n",
       "    <tr>\n",
       "      <th>700</th>\n",
       "      <td>1</td>\n",
       "      <td>C</td>\n",
       "      <td>227.5250</td>\n",
       "    </tr>\n",
       "    <tr>\n",
       "      <th>716</th>\n",
       "      <td>1</td>\n",
       "      <td>C</td>\n",
       "      <td>227.5250</td>\n",
       "    </tr>\n",
       "    <tr>\n",
       "      <th>730</th>\n",
       "      <td>1</td>\n",
       "      <td>B</td>\n",
       "      <td>211.3375</td>\n",
       "    </tr>\n",
       "    <tr>\n",
       "      <th>742</th>\n",
       "      <td>1</td>\n",
       "      <td>B</td>\n",
       "      <td>262.3750</td>\n",
       "    </tr>\n",
       "    <tr>\n",
       "      <th>779</th>\n",
       "      <td>1</td>\n",
       "      <td>B</td>\n",
       "      <td>211.3375</td>\n",
       "    </tr>\n",
       "    <tr>\n",
       "      <th>856</th>\n",
       "      <td>1</td>\n",
       "      <td>B</td>\n",
       "      <td>164.8667</td>\n",
       "    </tr>\n",
       "  </tbody>\n",
       "</table>\n",
       "</div>"
      ],
      "text/plain": [
       "     passenger_class deck      fare\n",
       "27                 1    C  263.0000\n",
       "88                 1    C  263.0000\n",
       "118                1    B  247.5208\n",
       "299                1    B  247.5208\n",
       "311                1    B  262.3750\n",
       "318                1    C  164.8667\n",
       "341                1    C  263.0000\n",
       "377                1    C  211.5000\n",
       "380                1    B  227.5250\n",
       "438                1    C  263.0000\n",
       "527                1    C  221.7792\n",
       "557                1    B  227.5250\n",
       "689                1    B  211.3375\n",
       "700                1    C  227.5250\n",
       "716                1    C  227.5250\n",
       "730                1    B  211.3375\n",
       "742                1    B  262.3750\n",
       "779                1    B  211.3375\n",
       "856                1    B  164.8667"
      ]
     },
     "execution_count": 101,
     "metadata": {},
     "output_type": "execute_result"
    }
   ],
   "source": [
    "data[[\"passenger_class\",\"deck\",\"fare\"]][data[\"fare\"].isin(large_fares)]"
   ]
  },
  {
   "cell_type": "markdown",
   "id": "e7e34274",
   "metadata": {},
   "source": [
    "All of them belong to the first passenger class and the best decks. "
   ]
  },
  {
   "cell_type": "code",
   "execution_count": 102,
   "id": "94dc2fdf",
   "metadata": {},
   "outputs": [
    {
     "data": {
      "text/plain": [
       "(-0.264, 87.667]     721\n",
       "(87.667, 175.333]     43\n",
       "(175.333, 263.0]      17\n",
       "Name: count, dtype: int64"
      ]
     },
     "execution_count": 102,
     "metadata": {},
     "output_type": "execute_result"
    }
   ],
   "source": [
    "data.fare.value_counts(bins = 3)"
   ]
  },
  {
   "cell_type": "code",
   "execution_count": 103,
   "id": "a6548142",
   "metadata": {},
   "outputs": [],
   "source": [
    "data[\"fare_category\"] = pd.cut(data.fare,bins = 3,labels = [\"Inexpensive\",\"Reasonable\",\"Expensive\"])"
   ]
  },
  {
   "cell_type": "code",
   "execution_count": 104,
   "id": "82aaf654",
   "metadata": {},
   "outputs": [
    {
     "data": {
      "text/plain": [
       "fare_category\n",
       "Inexpensive    711\n",
       "Reasonable      43\n",
       "Expensive       17\n",
       "No Fare         10\n",
       "Name: count, dtype: int64"
      ]
     },
     "execution_count": 104,
     "metadata": {},
     "output_type": "execute_result"
    }
   ],
   "source": [
    "if 'No Fare' not in data['fare_category'].cat.categories:\n",
    "    data['fare_category'] = data['fare_category'].cat.add_categories('No Fare')\n",
    "data.loc[data[\"fare\"] == 0, \"fare_category\"] = \"No Fare\"\n",
    "data[\"fare_category\"].value_counts()"
   ]
  },
  {
   "cell_type": "code",
   "execution_count": 105,
   "id": "72ca6e4e",
   "metadata": {},
   "outputs": [
    {
     "data": {
      "text/html": [
       "<div>\n",
       "<style scoped>\n",
       "    .dataframe tbody tr th:only-of-type {\n",
       "        vertical-align: middle;\n",
       "    }\n",
       "\n",
       "    .dataframe tbody tr th {\n",
       "        vertical-align: top;\n",
       "    }\n",
       "\n",
       "    .dataframe thead th {\n",
       "        text-align: right;\n",
       "    }\n",
       "</style>\n",
       "<table border=\"1\" class=\"dataframe\">\n",
       "  <thead>\n",
       "    <tr style=\"text-align: right;\">\n",
       "      <th></th>\n",
       "      <th>passenger_class</th>\n",
       "      <th>gender</th>\n",
       "      <th>age</th>\n",
       "      <th>sibling/spouse</th>\n",
       "      <th>parent/children</th>\n",
       "      <th>fare</th>\n",
       "      <th>individual_type</th>\n",
       "      <th>adult_male</th>\n",
       "      <th>deck</th>\n",
       "      <th>embark_town</th>\n",
       "      <th>survival_status</th>\n",
       "      <th>alone</th>\n",
       "      <th>adult</th>\n",
       "      <th>fare_category</th>\n",
       "    </tr>\n",
       "  </thead>\n",
       "  <tbody>\n",
       "    <tr>\n",
       "      <th>0</th>\n",
       "      <td>3</td>\n",
       "      <td>male</td>\n",
       "      <td>22.0</td>\n",
       "      <td>1</td>\n",
       "      <td>0</td>\n",
       "      <td>7.2500</td>\n",
       "      <td>man</td>\n",
       "      <td>yes</td>\n",
       "      <td>G</td>\n",
       "      <td>Southampton</td>\n",
       "      <td>no</td>\n",
       "      <td>no</td>\n",
       "      <td>yes</td>\n",
       "      <td>Inexpensive</td>\n",
       "    </tr>\n",
       "    <tr>\n",
       "      <th>1</th>\n",
       "      <td>1</td>\n",
       "      <td>female</td>\n",
       "      <td>38.0</td>\n",
       "      <td>1</td>\n",
       "      <td>0</td>\n",
       "      <td>71.2833</td>\n",
       "      <td>woman</td>\n",
       "      <td>no</td>\n",
       "      <td>C</td>\n",
       "      <td>Cherbourg</td>\n",
       "      <td>yes</td>\n",
       "      <td>no</td>\n",
       "      <td>yes</td>\n",
       "      <td>Inexpensive</td>\n",
       "    </tr>\n",
       "    <tr>\n",
       "      <th>2</th>\n",
       "      <td>3</td>\n",
       "      <td>female</td>\n",
       "      <td>26.0</td>\n",
       "      <td>0</td>\n",
       "      <td>0</td>\n",
       "      <td>7.9250</td>\n",
       "      <td>woman</td>\n",
       "      <td>no</td>\n",
       "      <td>G</td>\n",
       "      <td>Southampton</td>\n",
       "      <td>yes</td>\n",
       "      <td>yes</td>\n",
       "      <td>yes</td>\n",
       "      <td>Inexpensive</td>\n",
       "    </tr>\n",
       "    <tr>\n",
       "      <th>3</th>\n",
       "      <td>1</td>\n",
       "      <td>female</td>\n",
       "      <td>35.0</td>\n",
       "      <td>1</td>\n",
       "      <td>0</td>\n",
       "      <td>53.1000</td>\n",
       "      <td>woman</td>\n",
       "      <td>no</td>\n",
       "      <td>C</td>\n",
       "      <td>Southampton</td>\n",
       "      <td>yes</td>\n",
       "      <td>no</td>\n",
       "      <td>yes</td>\n",
       "      <td>Inexpensive</td>\n",
       "    </tr>\n",
       "    <tr>\n",
       "      <th>4</th>\n",
       "      <td>3</td>\n",
       "      <td>male</td>\n",
       "      <td>35.0</td>\n",
       "      <td>0</td>\n",
       "      <td>0</td>\n",
       "      <td>8.0500</td>\n",
       "      <td>man</td>\n",
       "      <td>yes</td>\n",
       "      <td>F</td>\n",
       "      <td>Southampton</td>\n",
       "      <td>no</td>\n",
       "      <td>yes</td>\n",
       "      <td>yes</td>\n",
       "      <td>Inexpensive</td>\n",
       "    </tr>\n",
       "  </tbody>\n",
       "</table>\n",
       "</div>"
      ],
      "text/plain": [
       "   passenger_class  gender   age  sibling/spouse  parent/children     fare  \\\n",
       "0                3    male  22.0               1                0   7.2500   \n",
       "1                1  female  38.0               1                0  71.2833   \n",
       "2                3  female  26.0               0                0   7.9250   \n",
       "3                1  female  35.0               1                0  53.1000   \n",
       "4                3    male  35.0               0                0   8.0500   \n",
       "\n",
       "  individual_type adult_male deck  embark_town survival_status alone adult  \\\n",
       "0             man        yes    G  Southampton              no    no   yes   \n",
       "1           woman         no    C    Cherbourg             yes    no   yes   \n",
       "2           woman         no    G  Southampton             yes   yes   yes   \n",
       "3           woman         no    C  Southampton             yes    no   yes   \n",
       "4             man        yes    F  Southampton              no   yes   yes   \n",
       "\n",
       "  fare_category  \n",
       "0   Inexpensive  \n",
       "1   Inexpensive  \n",
       "2   Inexpensive  \n",
       "3   Inexpensive  \n",
       "4   Inexpensive  "
      ]
     },
     "execution_count": 105,
     "metadata": {},
     "output_type": "execute_result"
    }
   ],
   "source": [
    "data.head()"
   ]
  },
  {
   "cell_type": "code",
   "execution_count": 106,
   "id": "8e280d6f",
   "metadata": {
    "scrolled": true
   },
   "outputs": [
    {
     "data": {
      "text/plain": [
       "<Axes: xlabel='survival_status', ylabel='count'>"
      ]
     },
     "execution_count": 106,
     "metadata": {},
     "output_type": "execute_result"
    },
    {
     "data": {
      "image/png": "[encoded data removed]",
      "text/plain": [
       "<Figure size 640x480 with 1 Axes>"
      ]
     },
     "metadata": {},
     "output_type": "display_data"
    }
   ],
   "source": [
    "sns.countplot(data,x = \"survival_status\", hue = \"fare_category\") # more inexpensive ones are on board"
   ]
  },
  {
   "cell_type": "markdown",
   "id": "161ed2d8",
   "metadata": {},
   "source": [
    "This supports the conclusion that a lot of poeple are from 3rd class "
   ]
  },
  {
   "cell_type": "code",
   "execution_count": 107,
   "id": "127da2fe",
   "metadata": {},
   "outputs": [
    {
     "name": "stderr",
     "output_type": "stream",
     "text": [
      "C:\\Users\\Imran\\anaconda3\\Lib\\site-packages\\seaborn\\axisgrid.py:118: UserWarning: The figure layout has changed to tight\n",
      "  self._figure.tight_layout(*args, **kwargs)\n"
     ]
    },
    {
     "data": {
      "image/png": "[encoded data removed]",
      "text/plain": [
       "<Figure size 1633.12x500 with 3 Axes>"
      ]
     },
     "metadata": {},
     "output_type": "display_data"
    }
   ],
   "source": [
    "sns.relplot(data,x = \"deck\",y=\"fare\",col = \"passenger_class\",hue = \"fare_category\");"
   ]
  },
  {
   "cell_type": "markdown",
   "id": "aa7a37fc",
   "metadata": {},
   "source": [
    "Some first class people are also on board for free"
   ]
  },
  {
   "cell_type": "markdown",
   "id": "e6187e3f",
   "metadata": {},
   "source": [
    "## 9- Survival Status as per embarked town"
   ]
  },
  {
   "cell_type": "code",
   "execution_count": 108,
   "id": "9bf9ee40",
   "metadata": {},
   "outputs": [
    {
     "data": {
      "text/plain": [
       "<Axes: xlabel='survival_status', ylabel='count'>"
      ]
     },
     "execution_count": 108,
     "metadata": {},
     "output_type": "execute_result"
    },
    {
     "data": {
      "image/png": "[encoded data removed]",
      "text/plain": [
       "<Figure size 640x480 with 1 Axes>"
      ]
     },
     "metadata": {},
     "output_type": "display_data"
    }
   ],
   "source": [
    "sns.countplot(data,x = \"survival_status\", hue = \"embark_town\") "
   ]
  },
  {
   "cell_type": "markdown",
   "id": "a7ecfe3f",
   "metadata": {},
   "source": [
    "The survival to death ratio is greatest for Cherbourg which lead us to hypothesize that the people from there may have a good lifestyle and paid huge fairs"
   ]
  },
  {
   "cell_type": "code",
   "execution_count": 112,
   "id": "1a88f35e",
   "metadata": {},
   "outputs": [
    {
     "name": "stderr",
     "output_type": "stream",
     "text": [
      "C:\\Users\\Imran\\anaconda3\\Lib\\site-packages\\seaborn\\_oldcore.py:1119: FutureWarning: use_inf_as_na option is deprecated and will be removed in a future version. Convert inf values to NaN before operating instead.\n",
      "  with pd.option_context('mode.use_inf_as_na', True):\n",
      "C:\\Users\\Imran\\anaconda3\\Lib\\site-packages\\seaborn\\_oldcore.py:1119: FutureWarning: use_inf_as_na option is deprecated and will be removed in a future version. Convert inf values to NaN before operating instead.\n",
      "  with pd.option_context('mode.use_inf_as_na', True):\n",
      "C:\\Users\\Imran\\anaconda3\\Lib\\site-packages\\seaborn\\axisgrid.py:118: UserWarning: The figure layout has changed to tight\n",
      "  self._figure.tight_layout(*args, **kwargs)\n"
     ]
    },
    {
     "data": {
      "image/png": "[encoded data removed]",
      "text/plain": [
       "<Figure size 500x500 with 1 Axes>"
      ]
     },
     "metadata": {},
     "output_type": "display_data"
    }
   ],
   "source": [
    "sns.relplot(data,x=\"embark_town\",y=\"fare\",kind=\"line\");"
   ]
  },
  {
   "cell_type": "markdown",
   "id": "8d7101ba",
   "metadata": {},
   "source": [
    "This trend supports the hypothesis"
   ]
  },
  {
   "cell_type": "code",
   "execution_count": 113,
   "id": "d40efba1",
   "metadata": {
    "scrolled": true
   },
   "outputs": [
    {
     "data": {
      "text/plain": [
       "<Axes: xlabel='passenger_class', ylabel='count'>"
      ]
     },
     "execution_count": 113,
     "metadata": {},
     "output_type": "execute_result"
    },
    {
     "data": {
      "image/png": "[encoded data removed]",
      "text/plain": [
       "<Figure size 640x480 with 1 Axes>"
      ]
     },
     "metadata": {},
     "output_type": "display_data"
    }
   ],
   "source": [
    "sns.countplot(data,x = \"passenger_class\", hue = \"embark_town\") "
   ]
  },
  {
   "cell_type": "markdown",
   "id": "6c521208",
   "metadata": {},
   "source": [
    "Most of them belong to first class "
   ]
  },
  {
   "cell_type": "markdown",
   "id": "11362171",
   "metadata": {},
   "source": [
    "## 10 -Box plots identify the outliers based on interquartile range\n"
   ]
  },
  {
   "cell_type": "code",
   "execution_count": 114,
   "id": "6e57755b",
   "metadata": {},
   "outputs": [
    {
     "data": {
      "text/plain": [
       "<Axes: >"
      ]
     },
     "execution_count": 114,
     "metadata": {},
     "output_type": "execute_result"
    },
    {
     "data": {
      "image/png": "[encoded data removed]",
      "text/plain": [
       "<Figure size 640x480 with 1 Axes>"
      ]
     },
     "metadata": {},
     "output_type": "display_data"
    }
   ],
   "source": [
    "sns.boxplot(data[\"age\"])"
   ]
  },
  {
   "cell_type": "code",
   "execution_count": 115,
   "id": "14923b53",
   "metadata": {},
   "outputs": [],
   "source": [
    "outlier_age = detect_outliers(data.age)"
   ]
  },
  {
   "cell_type": "code",
   "execution_count": 116,
   "id": "7eef897d",
   "metadata": {
    "scrolled": true
   },
   "outputs": [
    {
     "data": {
      "text/html": [
       "<div>\n",
       "<style scoped>\n",
       "    .dataframe tbody tr th:only-of-type {\n",
       "        vertical-align: middle;\n",
       "    }\n",
       "\n",
       "    .dataframe tbody tr th {\n",
       "        vertical-align: top;\n",
       "    }\n",
       "\n",
       "    .dataframe thead th {\n",
       "        text-align: right;\n",
       "    }\n",
       "</style>\n",
       "<table border=\"1\" class=\"dataframe\">\n",
       "  <thead>\n",
       "    <tr style=\"text-align: right;\">\n",
       "      <th></th>\n",
       "      <th>passenger_class</th>\n",
       "      <th>gender</th>\n",
       "      <th>age</th>\n",
       "      <th>sibling/spouse</th>\n",
       "      <th>parent/children</th>\n",
       "      <th>fare</th>\n",
       "      <th>individual_type</th>\n",
       "      <th>adult_male</th>\n",
       "      <th>deck</th>\n",
       "      <th>embark_town</th>\n",
       "      <th>survival_status</th>\n",
       "      <th>alone</th>\n",
       "      <th>adult</th>\n",
       "      <th>fare_category</th>\n",
       "    </tr>\n",
       "  </thead>\n",
       "  <tbody>\n",
       "    <tr>\n",
       "      <th>630</th>\n",
       "      <td>1</td>\n",
       "      <td>male</td>\n",
       "      <td>80.0</td>\n",
       "      <td>0</td>\n",
       "      <td>0</td>\n",
       "      <td>30.000</td>\n",
       "      <td>man</td>\n",
       "      <td>yes</td>\n",
       "      <td>A</td>\n",
       "      <td>Southampton</td>\n",
       "      <td>yes</td>\n",
       "      <td>yes</td>\n",
       "      <td>yes</td>\n",
       "      <td>Inexpensive</td>\n",
       "    </tr>\n",
       "    <tr>\n",
       "      <th>851</th>\n",
       "      <td>3</td>\n",
       "      <td>male</td>\n",
       "      <td>74.0</td>\n",
       "      <td>0</td>\n",
       "      <td>0</td>\n",
       "      <td>7.775</td>\n",
       "      <td>man</td>\n",
       "      <td>yes</td>\n",
       "      <td>G</td>\n",
       "      <td>Southampton</td>\n",
       "      <td>no</td>\n",
       "      <td>yes</td>\n",
       "      <td>yes</td>\n",
       "      <td>Inexpensive</td>\n",
       "    </tr>\n",
       "  </tbody>\n",
       "</table>\n",
       "</div>"
      ],
      "text/plain": [
       "     passenger_class gender   age  sibling/spouse  parent/children    fare  \\\n",
       "630                1   male  80.0               0                0  30.000   \n",
       "851                3   male  74.0               0                0   7.775   \n",
       "\n",
       "    individual_type adult_male deck  embark_town survival_status alone adult  \\\n",
       "630             man        yes    A  Southampton             yes   yes   yes   \n",
       "851             man        yes    G  Southampton              no   yes   yes   \n",
       "\n",
       "    fare_category  \n",
       "630   Inexpensive  \n",
       "851   Inexpensive  "
      ]
     },
     "execution_count": 116,
     "metadata": {},
     "output_type": "execute_result"
    }
   ],
   "source": [
    "data[data.age.isin(outlier_age)] "
   ]
  },
  {
   "cell_type": "markdown",
   "id": "60225b06",
   "metadata": {},
   "source": [
    "The 80 year man is the eldest to survive."
   ]
  },
  {
   "cell_type": "markdown",
   "id": "0612abc7",
   "metadata": {},
   "source": [
    "# 11- Standard Deviation"
   ]
  },
  {
   "cell_type": "code",
   "execution_count": 117,
   "id": "fe041d6d",
   "metadata": {},
   "outputs": [
    {
     "data": {
      "text/plain": [
       "14.506308001642848"
      ]
     },
     "execution_count": 117,
     "metadata": {},
     "output_type": "execute_result"
    }
   ],
   "source": [
    "np.std(data[\"age\"]) # People of different ages are on board "
   ]
  },
  {
   "cell_type": "code",
   "execution_count": 118,
   "id": "752e7df7",
   "metadata": {},
   "outputs": [
    {
     "data": {
      "image/png": "[encoded data removed]",
      "text/plain": [
       "<Figure size 640x480 with 1 Axes>"
      ]
     },
     "metadata": {},
     "output_type": "display_data"
    }
   ],
   "source": [
    "plt.hist(x = data[\"age\"], bins=5, edgecolor=\"k\", alpha=0.7);"
   ]
  },
  {
   "cell_type": "markdown",
   "id": "90269b32",
   "metadata": {},
   "source": [
    "A lot of people are between the ages of 15 and 35.\n",
    "Meanwhile, there are a wide variety of people"
   ]
  },
  {
   "cell_type": "code",
   "execution_count": 119,
   "id": "4671d1db",
   "metadata": {},
   "outputs": [
    {
     "data": {
      "text/plain": [
       "42.98868972857173"
      ]
     },
     "execution_count": 119,
     "metadata": {},
     "output_type": "execute_result"
    }
   ],
   "source": [
    "np.std(data[\"fare\"])"
   ]
  },
  {
   "cell_type": "code",
   "execution_count": 120,
   "id": "f78eab80",
   "metadata": {},
   "outputs": [
    {
     "data": {
      "image/png": "[encoded data removed]",
      "text/plain": [
       "<Figure size 640x480 with 1 Axes>"
      ]
     },
     "metadata": {},
     "output_type": "display_data"
    }
   ],
   "source": [
    "plt.hist(x = data[\"fare\"], bins=5, edgecolor=\"k\", alpha=0.7);"
   ]
  },
  {
   "cell_type": "markdown",
   "id": "f1fedccb",
   "metadata": {},
   "source": [
    "Most people on board have paid less fares "
   ]
  }
 ],
 "metadata": {
  "kernelspec": {
   "display_name": "Python 3 (ipykernel)",
   "language": "python",
   "name": "python3"
  },
  "language_info": {
   "codemirror_mode": {
    "name": "ipython",
    "version": 3
   },
   "file_extension": ".py",
   "mimetype": "text/x-python",
   "name": "python",
   "nbconvert_exporter": "python",
   "pygments_lexer": "ipython3",
   "version": "3.11.5"
  }
 },
 "nbformat": 4,
 "nbformat_minor": 5
}
